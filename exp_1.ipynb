{
 "cells": [
  {
   "cell_type": "markdown",
   "id": "fb7efa8d-24c6-4a3f-b6ab-c0fea7e9431c",
   "metadata": {
    "tags": []
   },
   "source": [
    "Now we try dim-red using PCA"
   ]
  },
  {
   "cell_type": "code",
   "execution_count": 1,
   "id": "af37f84a-a94c-42bd-8ad1-dc3ebb59fe1d",
   "metadata": {},
   "outputs": [],
   "source": [
    "import numpy as np\n",
    "import sklearn\n",
    "from sklearn import preprocessing\n",
    "from sklearn.cluster import KMeans\n",
    "from sklearn.decomposition import PCA\n",
    "import itertools\n",
    "from tabulate import tabulate"
   ]
  },
  {
   "cell_type": "code",
   "execution_count": 2,
   "id": "80ec2eb7-71dd-4a41-a3db-c48f564a4268",
   "metadata": {},
   "outputs": [],
   "source": [
    "#Same function as in exp_0 but with a dim-red step\n",
    "def pca_kmeans_classify(X, exclusions, ncomponents, nclasses):\n",
    "    #Perform dim-red\n",
    "    pca = PCA(n_components=ncomponents)\n",
    "    Xnew = pca.fit_transform(X);\n",
    "    \n",
    "    #Rest is as before\n",
    "    kmeans = KMeans(n_clusters=nclasses, tol=1e-6, n_init=30).fit(X)\n",
    "    indx = kmeans.labels_\n",
    "    \n",
    "    cls_size = np.unique(indx, return_counts=True)[1]\n",
    "    sorted_indx = np.argsort(cls_size)\n",
    "\n",
    "    l=[]\n",
    "    for i in sorted_indx:\n",
    "        ltemp = list(heroes[np.argwhere(indx==i)].flatten())\n",
    "        ltemp.sort()\n",
    "        l.append(ltemp)\n",
    "    ltrans = list(map(list,itertools.zip_longest(*l,fillvalue=None)))\n",
    "    print(tabulate(ltrans))\n",
    "\n",
    "\n",
    "    header2 = np.delete(header,exclusions,0)\n",
    "    stats2 = np.delete(stats,exclusions,1)\n",
    "\n",
    "    cls_avg = []\n",
    "    cls_avg = [np.append('Metric - Class#',header2)]\n",
    "    j=0\n",
    "    for i in sorted_indx:\n",
    "        avg = np.round(np.mean(stats2[np.argwhere(indx==i).flatten()],axis=0),1)\n",
    "        std = np.std(stats2[np.argwhere(indx==i).flatten()],axis=0)\n",
    "        cv = np.round(std/(avg+1e-6),2)\n",
    "        avg = np.append('Avg. %d'%j,avg)\n",
    "        std = np.append('CV. %d'%j,cv)\n",
    "        j+=1\n",
    "\n",
    "        cls_avg.append(avg)\n",
    "        cls_avg.append(std)\n",
    "    cls_avg = list(map(list,zip(*cls_avg)))\n",
    "    print(tabulate(cls_avg))"
   ]
  },
  {
   "cell_type": "code",
   "execution_count": 3,
   "id": "9fb9b940-8035-4010-a00e-3e7eef7be168",
   "metadata": {},
   "outputs": [],
   "source": [
    "#Load data\n",
    "d = np.load('hots_stats_ext.npz')\n",
    "header = d['header'][1:]\n",
    "heroes = d['heroes']\n",
    "stats = d['stats']"
   ]
  },
  {
   "cell_type": "code",
   "execution_count": 4,
   "id": "e904e98b-3458-4f75-827e-68e21546d94e",
   "metadata": {},
   "outputs": [
    {
     "data": {
      "text/plain": [
       "array(['Games', 'Win %', 'Avg Length', 'T/D', 'Takedowns', 'Kills',\n",
       "       'Deaths', 'Hero Dmg', 'Siege Dmg', 'Healing', 'Self Heal',\n",
       "       'Dmg Taken', 'XP', 'DPS', 'Range', 'HP'], dtype='<U10')"
      ]
     },
     "execution_count": 4,
     "metadata": {},
     "output_type": "execute_result"
    }
   ],
   "source": [
    "header"
   ]
  },
  {
   "cell_type": "code",
   "execution_count": 5,
   "id": "b0e47e13-ed13-474b-a0be-a3476c61119c",
   "metadata": {},
   "outputs": [],
   "source": [
    "#Normalize data\n",
    "normalizer = preprocessing.Normalizer()\n",
    "norm_stats = normalizer.transform(stats)  "
   ]
  },
  {
   "cell_type": "code",
   "execution_count": 6,
   "id": "f5c67f88-d472-41d9-b529-e53a8e66719b",
   "metadata": {},
   "outputs": [],
   "source": [
    "#Remove Games, Win rate, Avg. game duration (superfluous) and T/D (redundant)\n",
    "#For now also exclude internal stats: DPS, Range, HP\n",
    "exclusions = [0,1,2,3,-1,-2,-3]\n",
    "X = np.delete(norm_stats,exclusions,1)"
   ]
  },
  {
   "cell_type": "code",
   "execution_count": 7,
   "id": "f3214890-bc96-4b5c-a620-4ebd5dfefee5",
   "metadata": {},
   "outputs": [],
   "source": [
    "#Reduce dimensions\n",
    "pca = PCA(n_components=4)\n",
    "Xnew = pca.fit_transform(X);"
   ]
  },
  {
   "cell_type": "code",
   "execution_count": 20,
   "id": "d6c0e87d-3bfc-40ab-9283-a23b60a2ccce",
   "metadata": {},
   "outputs": [
    {
     "name": "stdout",
     "output_type": "stream",
     "text": [
      "------------  ------------  -----------  ------------  ------------  ------------  ------------  ------------  ------------\n",
      " 0.000571519   2.15563e-10  1.4414e-10    1.95998e-06  -7.20485e-08   1.76412e-06  -1.18959e-07   1.57979e-06   1.88335e-07\n",
      " 2.15563e-10   0.000571518  5.61149e-11   1.31751e-06   9.49701e-07  -1.05567e-06   1.50971e-08   5.30392e-07   1.4151e-07\n",
      " 1.4414e-10    5.61149e-11  0.000571518   4.97023e-07   2.05459e-07   1.71661e-08   1.35937e-07   6.30082e-07   7.20425e-08\n",
      " 1.95998e-06   1.31751e-06  4.97023e-07   0.014204      0.013776     -0.0103968    -0.00115981    0.00212891    0.00170579\n",
      "-7.20485e-08   9.49701e-07  2.05459e-07   0.013776      0.0426345    -0.0231403     0.000639253  -0.000891881   0.00414658\n",
      " 1.76412e-06  -1.05567e-06  1.71661e-08  -0.0103968    -0.0231403     0.0462592    -0.00575502   -0.00465433   -0.00177102\n",
      "-1.18959e-07   1.50971e-08  1.35937e-07  -0.00115981    0.000639253  -0.00575502    0.00649094    0.0109699     0.000473899\n",
      " 1.57979e-06   5.30392e-07  6.30082e-07   0.00212891   -0.000891881  -0.00465433    0.0109699     0.0257842     0.00122572\n",
      " 1.88335e-07   1.4151e-07   7.20425e-08   0.00170579    0.00414658   -0.00177102    0.000473899   0.00122572    0.00107665\n",
      "------------  ------------  -----------  ------------  ------------  ------------  ------------  ------------  ------------\n"
     ]
    }
   ],
   "source": [
    "print(tabulate(pca.get_covariance()))"
   ]
  },
  {
   "cell_type": "code",
   "execution_count": 26,
   "id": "7274dcf4-4549-4209-a798-0dad4d770bea",
   "metadata": {},
   "outputs": [
    {
     "data": {
      "text/plain": [
       "(90, 4)"
      ]
     },
     "execution_count": 26,
     "metadata": {},
     "output_type": "execute_result"
    }
   ],
   "source": [
    "Xnew.shape"
   ]
  },
  {
   "cell_type": "code",
   "execution_count": 8,
   "id": "35d10e56-734c-475a-9cce-050aa0037911",
   "metadata": {},
   "outputs": [
    {
     "name": "stdout",
     "output_type": "stream",
     "text": [
      "---------  -----------  ----------------  -----------\n",
      "Anub'arak  Alexstrasza  Alarak            Abathur\n",
      "Artanis    Ana          Arthas            Azmodan\n",
      "Diablo     Anduin       Blaze             Cassia\n",
      "E.T.C.     Auriel       Chen              Chromie\n",
      "Garrosh    Brightwing   Cho               Deathwing\n",
      "Johanna    Deckard      D.Va              Falstad\n",
      "Li-Ming    Kharazim     Dehaka            Fenix\n",
      "Mei        Li Li        Genji             Gall\n",
      "Muradin    Lt. Morales  Hogger            Gazlowe\n",
      "Raynor     Lúcio        Illidan           Greymane\n",
      "Sonya      Malfurion    Imperius          Gul'dan\n",
      "Stitches   Rehgar       Kerrigan          Hanzo\n",
      "Tychus     Stukov       Leoric            Jaina\n",
      "Valla      Tyrande      Maiev             Junkrat\n",
      "Varian     Uther        Mal'Ganis         Kael'thas\n",
      "           Whitemane    Malthael          Kel'Thuzad\n",
      "                        Medivh            Lunara\n",
      "                        Qhira             Mephisto\n",
      "                        Rexxar            Murky\n",
      "                        The Butcher       Nazeebo\n",
      "                        The Lost Vikings  Nova\n",
      "                        Thrall            Orphea\n",
      "                        Tracer            Probius\n",
      "                        Tyrael            Ragnaros\n",
      "                        Valeera           Samuro\n",
      "                        Yrel              Sgt. Hammer\n",
      "                        Zarya             Sylvanas\n",
      "                                          Tassadar\n",
      "                                          Xul\n",
      "                                          Zagara\n",
      "                                          Zeratul\n",
      "                                          Zul'jin\n",
      "---------  -----------  ----------------  -----------\n",
      "---------------  -------  -----  -------  -----  -------  -----  -------  -----\n",
      "Metric - Class#  Avg. 0   CV. 0  Avg. 1   CV. 1  Avg. 2   CV. 2  Avg. 3   CV. 3\n",
      "Takedowns        12.8     0.07   13.1     0.03   12.6     0.1    12.0     0.13\n",
      "Kills            3.2      0.35   1.7      0.32   3.8      0.31   3.9      0.26\n",
      "Deaths           3.4      0.14   2.9      0.12   3.6      0.16   3.2      0.21\n",
      "Hero Dmg         42011.1  0.28   23687.1  0.22   43733.8  0.15   53678.9  0.15\n",
      "Siege Dmg        57165.2  0.33   26870.6  0.28   68230.3  0.31   96579.1  0.26\n",
      "Healing          503.4    2.55   71434.2  0.13   2735.0   1.88   1499.2   3.37\n",
      "Self Heal        19940.4  0.52   2942.6   1.35   22243.3  0.57   6340.5   1.13\n",
      "Dmg Taken        66472.3  0.33   37520.9  0.22   67947.4  0.23   35291.8  0.35\n",
      "XP               10171.6  0.14   7128.4   0.11   12038.3  0.25   13140.4  0.22\n",
      "---------------  -------  -----  -------  -----  -------  -----  -------  -----\n"
     ]
    }
   ],
   "source": [
    "pca_kmeans_classify(X=X,exclusions=exclusions,ncomponents=4,nclasses=4)\n",
    "#4 classes: no difference"
   ]
  },
  {
   "cell_type": "code",
   "execution_count": 9,
   "id": "a067d78a-3578-452d-b0a4-9cb16f59d07a",
   "metadata": {},
   "outputs": [
    {
     "name": "stdout",
     "output_type": "stream",
     "text": [
      "---------  -----------  -----------  ---------  ----------------\n",
      "Anub'arak  Alexstrasza  Abathur      Azmodan    Alarak\n",
      "Artanis    Ana          Chromie      Cassia     Arthas\n",
      "Diablo     Anduin       Deathwing    Falstad    Blaze\n",
      "E.T.C.     Auriel       Fenix        Gazlowe    Chen\n",
      "Garrosh    Brightwing   Gall         Greymane   Cho\n",
      "Johanna    Deckard      Gul'dan      Hanzo      D.Va\n",
      "Mei        Kharazim     Junkrat      Jaina      Dehaka\n",
      "Muradin    Li Li        Kel'Thuzad   Kael'thas  Genji\n",
      "Stitches   Lt. Morales  Mephisto     Li-Ming    Hogger\n",
      "Varian     Lúcio        Murky        Lunara     Illidan\n",
      "           Malfurion    Probius      Nazeebo    Imperius\n",
      "           Rehgar       Ragnaros     Nova       Kerrigan\n",
      "           Stukov       Samuro       Orphea     Leoric\n",
      "           Tyrande      Sgt. Hammer  Raynor     Maiev\n",
      "           Uther        Xul          Sonya      Mal'Ganis\n",
      "           Whitemane    Zagara       Sylvanas   Malthael\n",
      "                                     Tassadar   Medivh\n",
      "                                     Tychus     Qhira\n",
      "                                     Valla      Rexxar\n",
      "                                     Zul'jin    The Butcher\n",
      "                                                The Lost Vikings\n",
      "                                                Thrall\n",
      "                                                Tracer\n",
      "                                                Tyrael\n",
      "                                                Valeera\n",
      "                                                Yrel\n",
      "                                                Zarya\n",
      "                                                Zeratul\n",
      "---------  -----------  -----------  ---------  ----------------\n",
      "---------------  -------  -----  -------  -----  --------  -----  -------  -----  -------  -----\n",
      "Metric - Class#  Avg. 0   CV. 0  Avg. 1   CV. 1  Avg. 2    CV. 2  Avg. 3   CV. 3  Avg. 4   CV. 4\n",
      "Takedowns        13.1     0.05   13.1     0.03   11.6      0.16   12.4     0.08   12.6     0.1\n",
      "Kills            2.5      0.25   1.7      0.32   3.3       0.26   4.4      0.18   3.9      0.32\n",
      "Deaths           3.5      0.13   2.9      0.12   2.9       0.28   3.4      0.11   3.6      0.16\n",
      "Hero Dmg         35102.9  0.16   23687.1  0.22   51931.4   0.18   56165.4  0.11   43695.2  0.15\n",
      "Siege Dmg        46160.1  0.26   26870.6  0.28   107688.7  0.22   84822.2  0.24   68184.4  0.3\n",
      "Healing          755.1    2.0    71434.2  0.13   2793.2    2.46   0.0      0.0    2754.5   1.83\n",
      "Self Heal        25280.5  0.23   2942.6   1.35   6142.8    1.17   7168.2   1.11   21718.6  0.59\n",
      "Dmg Taken        79425.9  0.14   37520.9  0.22   33456.0   0.46   37728.6  0.27   67031.2  0.24\n",
      "XP               9435.8   0.1    7128.4   0.11   14008.7   0.24   12120.1  0.15   12043.0  0.25\n",
      "---------------  -------  -----  -------  -----  --------  -----  -------  -----  -------  -----\n"
     ]
    }
   ],
   "source": [
    "pca_kmeans_classify(X=X,exclusions=exclusions,ncomponents=4,nclasses=5)\n",
    "#With 5 classes, Sonya moves to class 4. Otherwise no change"
   ]
  },
  {
   "cell_type": "code",
   "execution_count": 10,
   "id": "9396fa96-6e05-491d-b459-46ca3994b510",
   "metadata": {},
   "outputs": [],
   "source": [
    "#Try with internal stats\n",
    "exclusions = [0,1,2,3]\n",
    "X = np.delete(norm_stats,exclusions,1)"
   ]
  },
  {
   "cell_type": "code",
   "execution_count": 11,
   "id": "25589b10-81d6-427d-ba63-263f695230ca",
   "metadata": {},
   "outputs": [
    {
     "name": "stdout",
     "output_type": "stream",
     "text": [
      "---------  -----------  ----------------  -----------\n",
      "Anub'arak  Alexstrasza  Alarak            Abathur\n",
      "Artanis    Ana          Arthas            Azmodan\n",
      "Diablo     Anduin       Blaze             Cassia\n",
      "E.T.C.     Auriel       Chen              Chromie\n",
      "Garrosh    Brightwing   Cho               Deathwing\n",
      "Johanna    Deckard      D.Va              Falstad\n",
      "Li-Ming    Kharazim     Dehaka            Fenix\n",
      "Mei        Li Li        Genji             Gall\n",
      "Muradin    Lt. Morales  Hogger            Gazlowe\n",
      "Raynor     Lúcio        Illidan           Greymane\n",
      "Sonya      Malfurion    Imperius          Gul'dan\n",
      "Stitches   Rehgar       Kerrigan          Hanzo\n",
      "Tychus     Stukov       Leoric            Jaina\n",
      "Valla      Tyrande      Maiev             Junkrat\n",
      "Varian     Uther        Mal'Ganis         Kael'thas\n",
      "           Whitemane    Malthael          Kel'Thuzad\n",
      "                        Medivh            Lunara\n",
      "                        Qhira             Mephisto\n",
      "                        Rexxar            Murky\n",
      "                        The Butcher       Nazeebo\n",
      "                        The Lost Vikings  Nova\n",
      "                        Thrall            Orphea\n",
      "                        Tracer            Probius\n",
      "                        Tyrael            Ragnaros\n",
      "                        Valeera           Samuro\n",
      "                        Yrel              Sgt. Hammer\n",
      "                        Zarya             Sylvanas\n",
      "                                          Tassadar\n",
      "                                          Xul\n",
      "                                          Zagara\n",
      "                                          Zeratul\n",
      "                                          Zul'jin\n",
      "---------  -----------  ----------------  -----------\n",
      "---------------  -------  -----  -------  -----  -------  -----  -------  -----\n",
      "Metric - Class#  Avg. 0   CV. 0  Avg. 1   CV. 1  Avg. 2   CV. 2  Avg. 3   CV. 3\n",
      "Takedowns        12.8     0.07   13.1     0.03   12.6     0.1    12.0     0.13\n",
      "Kills            3.2      0.35   1.7      0.32   3.8      0.31   3.9      0.26\n",
      "Deaths           3.4      0.14   2.9      0.12   3.6      0.16   3.2      0.21\n",
      "Hero Dmg         42011.1  0.28   23687.1  0.22   43733.8  0.15   53678.9  0.15\n",
      "Siege Dmg        57165.2  0.33   26870.6  0.28   68230.3  0.31   96579.1  0.26\n",
      "Healing          503.4    2.55   71434.2  0.13   2735.0   1.88   1499.2   3.37\n",
      "Self Heal        19940.4  0.52   2942.6   1.35   22243.3  0.57   6340.5   1.13\n",
      "Dmg Taken        66472.3  0.33   37520.9  0.22   67947.4  0.23   35291.8  0.35\n",
      "XP               10171.6  0.14   7128.4   0.11   12038.3  0.25   13140.4  0.22\n",
      "DPS              130.4    0.29   159.2    0.36   172.6    0.36   158.5    0.31\n",
      "Range            4.4      0.47   3.7      0.52   3.0      0.62   3.5      0.6\n",
      "HP               2680.1   0.21   2934.8   0.27   3026.4   0.33   2896.8   0.26\n",
      "---------------  -------  -----  -------  -----  -------  -----  -------  -----\n"
     ]
    }
   ],
   "source": [
    "pca_kmeans_classify(X=X,exclusions=exclusions,ncomponents=4,nclasses=4)\n",
    "#4 classes: no change"
   ]
  },
  {
   "cell_type": "code",
   "execution_count": 12,
   "id": "e0133b03-4d15-4ec5-be03-de38233b2c3a",
   "metadata": {},
   "outputs": [
    {
     "name": "stdout",
     "output_type": "stream",
     "text": [
      "---------  -----------  -----------  ---------  ----------------\n",
      "Anub'arak  Alexstrasza  Abathur      Azmodan    Alarak\n",
      "Artanis    Ana          Chromie      Cassia     Arthas\n",
      "Diablo     Anduin       Deathwing    Falstad    Blaze\n",
      "E.T.C.     Auriel       Fenix        Gazlowe    Chen\n",
      "Garrosh    Brightwing   Gall         Greymane   Cho\n",
      "Johanna    Deckard      Gul'dan      Hanzo      D.Va\n",
      "Mei        Kharazim     Junkrat      Jaina      Dehaka\n",
      "Muradin    Li Li        Kel'Thuzad   Kael'thas  Genji\n",
      "Stitches   Lt. Morales  Mephisto     Li-Ming    Hogger\n",
      "Varian     Lúcio        Murky        Lunara     Illidan\n",
      "           Malfurion    Probius      Nazeebo    Imperius\n",
      "           Rehgar       Ragnaros     Nova       Kerrigan\n",
      "           Stukov       Samuro       Orphea     Leoric\n",
      "           Tyrande      Sgt. Hammer  Raynor     Maiev\n",
      "           Uther        Xul          Sonya      Mal'Ganis\n",
      "           Whitemane    Zagara       Sylvanas   Malthael\n",
      "                                     Tassadar   Medivh\n",
      "                                     Tychus     Qhira\n",
      "                                     Valla      Rexxar\n",
      "                                     Zul'jin    The Butcher\n",
      "                                                The Lost Vikings\n",
      "                                                Thrall\n",
      "                                                Tracer\n",
      "                                                Tyrael\n",
      "                                                Valeera\n",
      "                                                Yrel\n",
      "                                                Zarya\n",
      "                                                Zeratul\n",
      "---------  -----------  -----------  ---------  ----------------\n",
      "---------------  -------  -----  -------  -----  --------  -----  -------  -----  -------  -----\n",
      "Metric - Class#  Avg. 0   CV. 0  Avg. 1   CV. 1  Avg. 2    CV. 2  Avg. 3   CV. 3  Avg. 4   CV. 4\n",
      "Takedowns        13.1     0.05   13.1     0.03   11.6      0.16   12.4     0.08   12.6     0.1\n",
      "Kills            2.5      0.25   1.7      0.32   3.3       0.26   4.4      0.18   3.9      0.32\n",
      "Deaths           3.5      0.13   2.9      0.12   2.9       0.28   3.4      0.11   3.6      0.16\n",
      "Hero Dmg         35102.9  0.16   23687.1  0.22   51931.4   0.18   56165.4  0.11   43695.2  0.15\n",
      "Siege Dmg        46160.1  0.26   26870.6  0.28   107688.7  0.22   84822.2  0.24   68184.4  0.3\n",
      "Healing          755.1    2.0    71434.2  0.13   2793.2    2.46   0.0      0.0    2754.5   1.83\n",
      "Self Heal        25280.5  0.23   2942.6   1.35   6142.8    1.17   7168.2   1.11   21718.6  0.59\n",
      "Dmg Taken        79425.9  0.14   37520.9  0.22   33456.0   0.46   37728.6  0.27   67031.2  0.24\n",
      "XP               9435.8   0.1    7128.4   0.11   14008.7   0.24   12120.1  0.15   12043.0  0.25\n",
      "DPS              132.4    0.33   159.2    0.36   162.3     0.32   146.3    0.31   172.9    0.36\n",
      "Range            4.9      0.32   3.7      0.52   3.3       0.68   3.4      0.59   3.1      0.63\n",
      "HP               2673.0   0.23   2934.8   0.27   2741.1    0.26   3008.2   0.24   2995.0   0.33\n",
      "---------------  -------  -----  -------  -----  --------  -----  -------  -----  -------  -----\n"
     ]
    }
   ],
   "source": [
    "pca_kmeans_classify(X=X,exclusions=exclusions,ncomponents=4,nclasses=5)\n",
    "#5 classes: Sonya change only"
   ]
  },
  {
   "cell_type": "markdown",
   "id": "000ba24a-edd4-469e-ac24-fbc62ddf9bc9",
   "metadata": {},
   "source": [
    "PCA isn't having a huge impact, even with internal stats added to remove some of the redundancy. \n",
    "Nest: we try autoencoders"
   ]
  }
 ],
 "metadata": {
  "kernelspec": {
   "display_name": "Python 3 (ipykernel)",
   "language": "python",
   "name": "python3"
  },
  "language_info": {
   "codemirror_mode": {
    "name": "ipython",
    "version": 3
   },
   "file_extension": ".py",
   "mimetype": "text/x-python",
   "name": "python",
   "nbconvert_exporter": "python",
   "pygments_lexer": "ipython3",
   "version": "3.9.12"
  }
 },
 "nbformat": 4,
 "nbformat_minor": 5
}
