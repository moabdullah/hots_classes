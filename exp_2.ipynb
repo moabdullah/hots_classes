{
 "cells": [
  {
   "cell_type": "markdown",
   "id": "4f135b47-da2e-42e0-84c4-3af453af02f9",
   "metadata": {},
   "source": [
    "Now we try reducing the dimensinos with autoenconders"
   ]
  },
  {
   "cell_type": "code",
   "execution_count": 4,
   "id": "af37f84a-a94c-42bd-8ad1-dc3ebb59fe1d",
   "metadata": {},
   "outputs": [],
   "source": [
    "import numpy as np\n",
    "import sklearn\n",
    "from sklearn import preprocessing\n",
    "from sklearn.cluster import KMeans\n",
    "\n",
    "import pickle\n",
    "\n",
    "import itertools\n",
    "from tabulate import tabulate\n",
    "\n",
    "import tensorflow as tf\n",
    "import keras\n",
    "from keras import layers\n",
    "from keras import regularizers\n",
    "from keras import initializers"
   ]
  },
  {
   "cell_type": "code",
   "execution_count": 5,
   "id": "80ec2eb7-71dd-4a41-a3db-c48f564a4268",
   "metadata": {},
   "outputs": [],
   "source": [
    "#Same clustering function as before\n",
    "#but we include the encoder variables, Xi, in output for extra insight \n",
    "def kmeans_classify(X, exclusions, nclasses):\n",
    "    #Perform clustering\n",
    "    kmeans = KMeans(n_clusters=nclasses, tol=1e-6).fit(X)\n",
    "    #Get labels for all heroes\n",
    "    indx = kmeans.labels_\n",
    "    \n",
    "    #Order clusters by size\n",
    "    cls_size = np.unique(indx, return_counts=True)[1]\n",
    "    sorted_indx = np.argsort(cls_size)\n",
    "\n",
    "    l=[]\n",
    "    for i in sorted_indx:\n",
    "        ltemp = list(heroes[np.argwhere(indx==i)].flatten())\n",
    "        ltemp.sort()\n",
    "        l.append(ltemp)\n",
    "    ltrans = list(map(list,itertools.zip_longest(*l,fillvalue=None)))\n",
    "    print(tabulate(ltrans))\n",
    "\n",
    "\n",
    "    header2 = np.delete(header,exclusions,0)\n",
    "    stats2 = np.delete(stats,exclusions,1)\n",
    "    stats3 = np.append(stats2,X*100,1)\n",
    "    \n",
    "    cls_avg = []\n",
    "    cls_avg = [np.append('Metric - Class#',header2)]\n",
    "    \n",
    "    for i in np.arange(X.shape[1]):\n",
    "        cls_avg = [np.append(cls_avg,'X%d'%i)]\n",
    "    \n",
    "    j=0\n",
    "    for i in sorted_indx:\n",
    "        avg = np.round(np.mean(stats3[np.argwhere(indx==i).flatten()],axis=0),1)\n",
    "        std = np.std(stats3[np.argwhere(indx==i).flatten()],axis=0)\n",
    "        cv = np.round(std/(avg+1e-6),2)\n",
    "        avg = np.append('Avg. %d'%j,avg)\n",
    "        std = np.append('CV. %d'%j,cv)\n",
    "        j+=1\n",
    "\n",
    "        cls_avg.append(avg)\n",
    "        cls_avg.append(std)\n",
    "    cls_avg = list(map(list,zip(*cls_avg)))\n",
    "    print(tabulate(cls_avg))\n",
    "    \n",
    "#kmeans_classify(encoder.predict(X),exclusions,4)"
   ]
  },
  {
   "cell_type": "code",
   "execution_count": 480,
   "id": "05e79a00-7a26-4fdc-8d73-8f134f045a62",
   "metadata": {},
   "outputs": [
    {
     "data": {
      "text/plain": [
       "array([0.64783496, 0.48512653, 0.39276606, 0.54037249, 0.41626233,\n",
       "       0.52498758, 0.65004361, 0.52021652, 0.63182694, 0.4368248 ,\n",
       "       0.62578982, 0.74833304, 0.51314652, 0.51577103, 0.52543354,\n",
       "       0.54308546, 0.66859841, 0.76350713, 0.64563107, 0.45748296,\n",
       "       0.70251721, 0.55985069, 0.53105825, 0.42984372, 0.47271848,\n",
       "       0.50946397, 0.64957511, 0.62811458, 0.51486206, 0.51108694,\n",
       "       0.43201044, 0.51565015, 0.64084631, 0.56530499, 0.57579392,\n",
       "       0.51863509, 0.61095858, 0.46296731, 0.74589807, 0.78224409,\n",
       "       0.59886867, 0.37543839, 0.49414995, 0.45324948, 0.55935436,\n",
       "       0.70910442, 0.56982243, 0.63696671, 0.58043176, 0.47287184,\n",
       "       0.68670553, 0.49759963, 0.50784516, 0.58852905, 0.46211126,\n",
       "       0.65114999, 0.43076625, 0.32511395, 0.31849894, 0.56625134,\n",
       "       0.44002292, 0.36695841, 0.41803375, 0.60367262, 0.39601874,\n",
       "       0.54169434, 0.27375081, 0.1602159 , 0.28683397, 0.58295381,\n",
       "       0.36884072, 0.19047911, 0.71850365, 0.28988224, 0.77762938,\n",
       "       0.12481225, 0.10022853, 0.15378504, 0.26391765, 0.17271365,\n",
       "       0.12655564, 0.12398694, 0.35724211, 0.22870483, 0.17866093,\n",
       "       0.22454049, 0.20451336, 0.111124  , 0.17042211, 0.14258122])"
      ]
     },
     "execution_count": 480,
     "metadata": {},
     "output_type": "execute_result"
    }
   ],
   "source": [
    "blah1 = np.delete(stats,exclusions,1)\n",
    "blah2 = Xenc\n",
    "np.append(blah1,blah2,axis=1)[:,13]"
   ]
  },
  {
   "cell_type": "code",
   "execution_count": 446,
   "id": "298c9b2b-a1a9-4845-a4f3-d179b74c0752",
   "metadata": {},
   "outputs": [
    {
     "data": {
      "text/plain": [
       "array(['Metric - Class#', 'Takedowns', 'Kills', 'Deaths', 'Hero Dmg',\n",
       "       'Siege Dmg', 'Healing', 'Self Heal', 'Dmg Taken', 'XP', 'DPS',\n",
       "       'Range', 'HP', '0', '1'], dtype='<U21')"
      ]
     },
     "execution_count": 446,
     "metadata": {},
     "output_type": "execute_result"
    }
   ],
   "source": [
    "blah3 = np.delete(header,exclusions,0)\n",
    "blah4 = np.arange(Xenc.shape[1])\n",
    "\n",
    "blah5 = [np.append('Metric - Class#',blah3)]\n",
    "np.append(blah5,blah4)"
   ]
  },
  {
   "cell_type": "code",
   "execution_count": 474,
   "id": "fb99f353-e303-4a0a-a906-b45917326e67",
   "metadata": {},
   "outputs": [
    {
     "data": {
      "text/plain": [
       "0.46885055"
      ]
     },
     "execution_count": 474,
     "metadata": {},
     "output_type": "execute_result"
    }
   ],
   "source": [
    "np.mean(Xenc[:,1])"
   ]
  },
  {
   "cell_type": "code",
   "execution_count": 432,
   "id": "0d56139f-d602-4de2-99a3-27d584c3f352",
   "metadata": {},
   "outputs": [],
   "source": [
    "Xenc=encoder.predict(X)"
   ]
  },
  {
   "cell_type": "code",
   "execution_count": 6,
   "id": "9fb9b940-8035-4010-a00e-3e7eef7be168",
   "metadata": {},
   "outputs": [],
   "source": [
    "#Load data\n",
    "d = np.load('hots_stats_ext.npz')\n",
    "header = d['header'][1:]\n",
    "heroes = d['heroes']\n",
    "stats = d['stats']"
   ]
  },
  {
   "cell_type": "code",
   "execution_count": null,
   "id": "e904e98b-3458-4f75-827e-68e21546d94e",
   "metadata": {},
   "outputs": [],
   "source": [
    "header"
   ]
  },
  {
   "cell_type": "code",
   "execution_count": 7,
   "id": "b0e47e13-ed13-474b-a0be-a3476c61119c",
   "metadata": {},
   "outputs": [],
   "source": [
    "#Normalize data\n",
    "normalizer = preprocessing.Normalizer()\n",
    "norm_stats = normalizer.transform(stats)  "
   ]
  },
  {
   "cell_type": "code",
   "execution_count": 8,
   "id": "f5c67f88-d472-41d9-b529-e53a8e66719b",
   "metadata": {},
   "outputs": [],
   "source": [
    "#Remove Games, Win rate, Avg. game duration (superfluous) and T/D (redundant)\n",
    "#For now also exclude internal stats: DPS, Range, HP\n",
    "exclusions = [0,1,2,3]\n",
    "X = np.delete(norm_stats,exclusions,1)"
   ]
  },
  {
   "cell_type": "code",
   "execution_count": 33,
   "id": "f3214890-bc96-4b5c-a620-4ebd5dfefee5",
   "metadata": {},
   "outputs": [
    {
     "name": "stdout",
     "output_type": "stream",
     "text": [
      "Input dim:  12\n",
      "Encoding dim:  2\n",
      "0.010190555825829506\n",
      "1000\n"
     ]
    },
    {
     "data": {
      "text/plain": [
       "array([[0.        , 1.056745  ],\n",
       "       [0.        , 0.641669  ],\n",
       "       [0.        , 0.431709  ],\n",
       "       [0.        , 0.8127952 ],\n",
       "       [0.        , 0.43308413],\n",
       "       [0.        , 0.7514824 ],\n",
       "       [0.        , 0.89771414],\n",
       "       [0.        , 0.7885611 ],\n",
       "       [0.        , 0.9112069 ],\n",
       "       [0.        , 0.5759032 ]], dtype=float32)"
      ]
     },
     "execution_count": 33,
     "metadata": {},
     "output_type": "execute_result"
    }
   ],
   "source": [
    "#We'll test the encoder manually here then run it through a script\n",
    "#We're getting 0 columns in some instances\n",
    "#we tried changing seeds and adding dropout, no difference\n",
    "#Since run time is short, we'll brute force and run many trials, pick the best result\n",
    "\n",
    "input_dim = X.shape[1]\n",
    "encoding_dim = 2\n",
    "print('Input dim: ',input_dim)\n",
    "print('Encoding dim: ',encoding_dim)\n",
    "\n",
    "Xin = keras.Input(shape=(input_dim,))\n",
    "\n",
    "Xin = layers.Dropout(0.1)(Xin)\n",
    "\n",
    "encoded = layers.Dense(encoding_dim,\n",
    "                       activation='relu')(Xin)\n",
    "decoded = layers.Dense(input_dim, \n",
    "                       activation='relu')(encoded)\n",
    "\n",
    "autoencoder = keras.Model(Xin, decoded)\n",
    "\n",
    "encoder = keras.Model(Xin,encoded)\n",
    "\n",
    "autoencoder.compile(optimizer='adam',loss='mean_squared_error')\n",
    "\n",
    "callback = tf.keras.callbacks.EarlyStopping(monitor='loss', patience=50)\n",
    "\n",
    "history = autoencoder.fit(X,X,\n",
    "                epochs = 1000,\n",
    "                batch_size=90,\n",
    "                verbose=0,\n",
    "                callbacks=callback);\n",
    "\n",
    "#print(autoencoder.evaluate(x=X,y=X, verbose='1'))\n",
    "print(history.history['loss'][-1])\n",
    "print(len(history.history['loss']))\n",
    "encoder.predict(X)[:10]"
   ]
  },
  {
   "cell_type": "code",
   "execution_count": 16,
   "id": "0eea067b-c3f9-46d6-8f1c-e2f2a58c2fbd",
   "metadata": {},
   "outputs": [
    {
     "data": {
      "text/plain": [
       "0.02565278671681881"
      ]
     },
     "execution_count": 16,
     "metadata": {},
     "output_type": "execute_result"
    }
   ],
   "source": [
    "history.history['loss'][-1]"
   ]
  },
  {
   "cell_type": "code",
   "execution_count": 9,
   "id": "9e9d04d7-7ac6-441b-9270-c208061ac5af",
   "metadata": {},
   "outputs": [],
   "source": [
    "#Experiment 0 with auto1\n",
    "#20 trials x 1000 epochs\n",
    "#Picked the lowest loss\n",
    "data = pickle.load(open('auto1_exp0.pickle','rb'))"
   ]
  },
  {
   "cell_type": "code",
   "execution_count": 71,
   "id": "8c12e770-286e-42dc-80b2-555fc007e1d5",
   "metadata": {
    "tags": []
   },
   "outputs": [
    {
     "name": "stdout",
     "output_type": "stream",
     "text": [
      "Dimensions = 6\n",
      "Loss = 0.00027452537324279547\n",
      "---------  -----------  ---------  ----------------  -----------\n",
      "Anub'arak  Alexstrasza  Azmodan    Abathur           Alarak\n",
      "Artanis    Ana          Cassia     Chromie           Arthas\n",
      "Diablo     Anduin       Falstad    Deathwing         Blaze\n",
      "E.T.C.     Auriel       Gazlowe    Fenix             Chen\n",
      "Garrosh    Brightwing   Greymane   Gall              Cho\n",
      "Johanna    Deckard      Hanzo      Gul'dan           D.Va\n",
      "Mei        Kharazim     Jaina      Junkrat           Dehaka\n",
      "Muradin    Li Li        Kael'thas  Kel'Thuzad        Genji\n",
      "Stitches   Lt. Morales  Li-Ming    Maiev             Hogger\n",
      "Varian     Lúcio        Lunara     Medivh            Illidan\n",
      "           Malfurion    Nazeebo    Mephisto          Imperius\n",
      "           Rehgar       Nova       Murky             Kerrigan\n",
      "           Stukov       Orphea     Probius           Leoric\n",
      "           Tyrande      Raynor     Ragnaros          Mal'Ganis\n",
      "           Uther        Sonya      Samuro            Malthael\n",
      "           Whitemane    Sylvanas   Sgt. Hammer       Qhira\n",
      "                        Tassadar   The Lost Vikings  Rexxar\n",
      "                        Tychus     Xul               The Butcher\n",
      "                        Valla      Zagara            Thrall\n",
      "                        Zul'jin    Zeratul           Tracer\n",
      "                                                     Tyrael\n",
      "                                                     Valeera\n",
      "                                                     Yrel\n",
      "                                                     Zarya\n",
      "---------  -----------  ---------  ----------------  -----------\n",
      "---------------  -------  -----  -------  -----  -------  -----  --------  -----  -------  -----\n",
      "Metric - Class#  Avg. 0   CV. 0  Avg. 1   CV. 1  Avg. 2   CV. 2  Avg. 3    CV. 3  Avg. 4   CV. 4\n",
      "Takedowns        13.1     0.05   13.1     0.03   12.4     0.08   11.7      0.16   12.6     0.09\n",
      "Kills            2.5      0.25   1.7      0.32   4.4      0.18   3.4       0.29   3.9      0.31\n",
      "Deaths           3.5      0.13   2.9      0.12   3.4      0.11   3.0       0.26   3.6      0.16\n",
      "Hero Dmg         35102.9  0.16   23687.1  0.22   56165.4  0.11   49949.2   0.2    43974.4  0.15\n",
      "Siege Dmg        46160.1  0.26   26870.6  0.28   84822.2  0.24   101696.2  0.26   66594.1  0.28\n",
      "Healing          755.1    2.0    71434.2  0.13   0.0      0.0    3440.4    2.14   2208.8   1.77\n",
      "Self Heal        25280.5  0.23   2942.6   1.35   7168.2   1.11   6811.4    1.25   23757.3  0.49\n",
      "Dmg Taken        79425.9  0.14   37520.9  0.22   37728.6  0.27   37486.2   0.48   69268.5  0.21\n",
      "XP               9435.8   0.1    7128.4   0.11   12120.1  0.15   14019.6   0.29   11706.3  0.17\n",
      "DPS              132.4    0.33   159.2    0.36   146.3    0.31   168.2     0.3    169.8    0.38\n",
      "Range            4.9      0.32   3.7      0.52   3.4      0.59   3.4       0.66   3.1      0.61\n",
      "HP               2673.0   0.23   2934.8   0.27   3008.2   0.24   2713.5    0.26   3060.4   0.33\n",
      "X0               0.0      0.0    0.0      0.0    0.0      0.0    0.9       4.33   0.0      0.0\n",
      "X1               40.2     0.06   38.4     0.16   36.7     0.24   34.6      0.27   51.7     0.16\n",
      "X2               8.8      0.42   36.3     0.18   37.4     0.16   45.3      0.26   18.5     0.53\n",
      "X3               15.4     0.3    18.9     0.46   26.9     0.21   46.8      0.13   39.6     0.19\n",
      "X4               33.5     0.17   13.3     0.62   57.2     0.15   80.8      0.08   64.8     0.12\n",
      "X5               2.5      0.86   39.7     0.32   1.7      1.18   10.0      0.61   9.6      0.53\n",
      "---------------  -------  -----  -------  -----  -------  -----  --------  -----  -------  -----\n"
     ]
    }
   ],
   "source": [
    "indx = 5 #Data set index\n",
    "numclass = 5\n",
    "\n",
    "print('Dimensions =',data[indx][0])\n",
    "print('Loss =',data[indx][1])\n",
    "kmeans_classify(data[indx][2],exclusions,numclass)\n",
    "\n",
    "#We compare clustering with exp_0 (w/o dim-red)\n",
    "#Dim:Comments\n",
    "#2,3:healers in tank sometimes\n",
    "#They do have similar takedown because they partake in hero fights\n",
    "#But other stats are very different\n",
    "#4: some migration between damage classes. Clustering unstable\n",
    "#5: Unstable. Tank class might draw melee assasins. Sonya left tank; good\n",
    "#6: Stable. Tanks, healers look good. Some damage dealers are surprising"
   ]
  },
  {
   "cell_type": "code",
   "execution_count": 11,
   "id": "c1a77333-88a0-4bdf-9378-1214f01f9dcf",
   "metadata": {},
   "outputs": [
    {
     "name": "stdout",
     "output_type": "stream",
     "text": [
      "----------  ---------  ---------\n",
      "Games       257622     287005\n",
      "Win %           50         52\n",
      "Avg Length      19.17      19.07\n",
      "T/D              5.8        5.1\n",
      "Takedowns       13.4       13.1\n",
      "Kills            1.4        1.4\n",
      "Deaths           2.3        2.6\n",
      "Hero Dmg     24212      15811\n",
      "Siege Dmg    26810      31705\n",
      "Healing      74049      86209\n",
      "Self Heal     6423          0\n",
      "Dmg Taken    32207      34818\n",
      "XP            6752       7630\n",
      "DPS             91.8      129.3\n",
      "Range            5.5        1.3\n",
      "HP            2074       3851\n",
      "----------  ---------  ---------\n"
     ]
    }
   ],
   "source": [
    "hero1=stats[np.argwhere(heroes==['Anduin'])].flatten()\n",
    "hero2=stats[np.argwhere(heroes==['Brightwing'])].flatten()\n",
    "print(tabulate(np.transpose(np.stack((header,hero1,hero2)))))"
   ]
  },
  {
   "cell_type": "code",
   "execution_count": 112,
   "id": "a17587c2-e1d2-40b1-bada-b6f3eb2430bf",
   "metadata": {
    "tags": []
   },
   "outputs": [
    {
     "name": "stdout",
     "output_type": "stream",
     "text": [
      "Dimensions = 6\n",
      "Loss = 0.00027452537324279547\n",
      "---------  ---------  ----------------  -----------  -----------  ---------\n",
      "Anub'arak  Azmodan    Abathur           Arthas       Alexstrasza  Alarak\n",
      "Artanis    Falstad    Chromie           Blaze        Ana          Cassia\n",
      "Diablo     Jaina      Fenix             Chen         Anduin       D.Va\n",
      "E.T.C.     Kael'thas  Gall              Cho          Auriel       Deathwing\n",
      "Garrosh    Li-Ming    Junkrat           Dehaka       Brightwing   Gazlowe\n",
      "Johanna    Lunara     Kel'Thuzad        Illidan      Deckard      Genji\n",
      "Mei        Nazeebo    Mephisto          Imperius     Kharazim     Greymane\n",
      "Muradin    Raynor     Murky             Kerrigan     Li Li        Gul'dan\n",
      "Stitches   Sonya      Probius           Leoric       Lt. Morales  Hanzo\n",
      "Varian     Sylvanas   Ragnaros          Mal'Ganis    Lúcio        Hogger\n",
      "           Tassadar   Samuro            Rexxar       Malfurion    Maiev\n",
      "           Tychus     Sgt. Hammer       The Butcher  Rehgar       Malthael\n",
      "           Valla      The Lost Vikings  Thrall       Stukov       Medivh\n",
      "           Zul'jin    Xul               Tyrael       Tyrande      Nova\n",
      "                      Zagara            Yrel         Uther        Orphea\n",
      "                                        Zarya        Whitemane    Qhira\n",
      "                                                                  Tracer\n",
      "                                                                  Valeera\n",
      "                                                                  Zeratul\n",
      "---------  ---------  ----------------  -----------  -----------  ---------\n",
      "---------------  -------  -----  -------  -----  --------  -----  -------  -----  -------  -----  -------  -----\n",
      "Metric - Class#  Avg. 0   CV. 0  Avg. 1   CV. 1  Avg. 2    CV. 2  Avg. 3   CV. 3  Avg. 4   CV. 4  Avg. 5   CV. 5\n",
      "Takedowns        13.1     0.05   12.2     0.08   11.3      0.17   12.4     0.08   13.1     0.03   12.9     0.09\n",
      "Kills            2.5      0.25   4.2      0.16   3.2       0.28   3.4      0.27   1.7      0.32   4.5      0.25\n",
      "Deaths           3.5      0.13   3.4      0.12   2.9       0.28   3.6      0.17   2.9      0.12   3.5      0.16\n",
      "Hero Dmg         35102.9  0.16   55840.1  0.11   49692.5   0.22   40682.5  0.11   23687.1  0.22   52610.8  0.12\n",
      "Siege Dmg        46160.1  0.26   89833.1  0.2    110203.7  0.22   66764.8  0.24   26870.6  0.28   71035.2  0.31\n",
      "Healing          755.1    2.0    0.0      0.0    2979.5    2.37   3031.8   1.46   71434.2  0.13   1506.3   3.13\n",
      "Self Heal        25280.5  0.23   7418.0   1.12   5725.8    1.37   28915.1  0.34   2942.6   1.35   10388.8  0.82\n",
      "Dmg Taken        79425.9  0.14   37446.0  0.26   35472.0   0.56   75408.1  0.15   37520.9  0.22   47573.2  0.28\n",
      "XP               9435.8   0.1    12487.0  0.14   14858.0   0.29   11736.1  0.17   7128.4   0.11   11488.4  0.16\n",
      "DPS              132.4    0.33   141.1    0.26   172.2     0.32   167.2    0.29   159.2    0.36   164.7    0.41\n",
      "Range            4.9      0.32   2.9      0.72   3.0       0.71   2.7      0.68   3.7      0.52   4.3      0.39\n",
      "HP               2673.0   0.23   3157.1   0.23   2681.9    0.25   3083.8   0.31   2934.8   0.27   2848.2   0.32\n",
      "X0               0.0      0.0    0.0      0.0    1.3       3.43   0.0      0.0    0.0      0.0    0.0      0.0\n",
      "X1               40.2     0.06   33.3     0.17   31.1      0.25   51.7     0.16   38.4     0.16   47.8     0.18\n",
      "X2               8.8      0.42   35.8     0.14   47.2      0.27   13.3     0.56   36.3     0.18   35.6     0.22\n",
      "X3               15.4     0.3    25.2     0.21   48.4      0.13   40.6     0.19   18.9     0.46   36.7     0.19\n",
      "X4               33.5     0.17   53.1     0.13   82.5      0.07   61.1     0.11   13.3     0.62   71.3     0.08\n",
      "X5               2.5      0.86   1.6      1.06   10.0      0.6    11.4     0.4    39.7     0.32   5.8      0.9\n",
      "---------------  -------  -----  -------  -----  --------  -----  -------  -----  -------  -----  -------  -----\n"
     ]
    }
   ],
   "source": [
    "indx = 5 #Data set index\n",
    "numclass = 6\n",
    "print('Dimensions =',data[indx][0])\n",
    "print('Loss =',data[indx][1])\n",
    "kmeans_classify(data[indx][2],exclusions,numclass)\n",
    "\n",
    "#Dim:Comments\n",
    "#2,3:healers in tank as before\n",
    "#4: Unstable. Sonya back in tank. Worse than before\n",
    "#5: Unstable. Sonya out. Class 0 derived from 5: lower damage, higher self-heal and tank\n",
    "#6: Unstable. common outcome:\n",
    "#tank and healers classes. good damage high kills. good siege high tank. good damage good tank high kill  "
   ]
  },
  {
   "cell_type": "code",
   "execution_count": 87,
   "id": "e7ed2e4d-6c30-4319-8aa0-866a3c48a7f5",
   "metadata": {},
   "outputs": [
    {
     "name": "stdout",
     "output_type": "stream",
     "text": [
      "----------  --------  --------  --------\n",
      "Games       50479     57214     24737\n",
      "Win %          44.1      53.8      46.4\n",
      "Avg Length     18.94     18.87     19.11\n",
      "T/D             3.8       4.2       4.1\n",
      "Takedowns      13.7      14.1      10.9\n",
      "Kills           5.7       6.1       2.3\n",
      "Deaths          3.6       3.4       2.7\n",
      "Hero Dmg    52320     52842     35899\n",
      "Siege Dmg   46460     58983     81076\n",
      "Healing         0      4502     10700\n",
      "Self Heal    8241     12708     27078\n",
      "Dmg Taken   51226     44230     77293\n",
      "XP           9374     11141     13142\n",
      "DPS           133.1     162.1     176.7\n",
      "Range           5.5       2         1.5\n",
      "HP           2111      3347      3966\n",
      "----------  --------  --------  --------\n"
     ]
    }
   ],
   "source": [
    "hero1=stats[np.argwhere(heroes==['Genji'])].flatten()\n",
    "hero2=stats[np.argwhere(heroes==['Tracer'])].flatten()\n",
    "hero3=stats[np.argwhere(heroes==['Yrel'])].flatten()\n",
    "print(tabulate(np.transpose(np.stack((header,hero1,hero2,hero3)))))"
   ]
  },
  {
   "cell_type": "code",
   "execution_count": 114,
   "id": "5dbb4ab3-ab04-42d8-afff-1afcfb4ae0b3",
   "metadata": {},
   "outputs": [],
   "source": [
    "#3 hidden layers\n",
    "data = pickle.load(open('auto2_exp0.pickle','rb'))"
   ]
  },
  {
   "cell_type": "code",
   "execution_count": 232,
   "id": "2924370c-5ef0-410c-b107-cb16d47a6e93",
   "metadata": {
    "tags": []
   },
   "outputs": [
    {
     "name": "stdout",
     "output_type": "stream",
     "text": [
      "Encoding dim1 = 8\n",
      "Encoding dim2 = 6\n",
      "Loss= 0.00023600272834300995\n",
      "----------------  ---------  -----------  -----------  -----------\n",
      "Arthas            Anub'arak  Alexstrasza  Alarak       Abathur\n",
      "Chen              Artanis    Ana          Blaze        Azmodan\n",
      "Cho               Diablo     Anduin       D.Va         Cassia\n",
      "Illidan           E.T.C.     Auriel       Deathwing    Chromie\n",
      "Kerrigan          Garrosh    Brightwing   Dehaka       Falstad\n",
      "Mal'Ganis         Johanna    Deckard      Fenix        Gall\n",
      "Rexxar            Mei        Kharazim     Gazlowe      Greymane\n",
      "The Lost Vikings  Muradin    Li Li        Genji        Gul'dan\n",
      "Tyrael            Sonya      Lt. Morales  Hogger       Hanzo\n",
      "Yrel              Stitches   Lúcio        Imperius     Jaina\n",
      "Zarya             Varian     Malfurion    Leoric       Junkrat\n",
      "                             Rehgar       Maiev        Kael'thas\n",
      "                             Stukov       Malthael     Kel'Thuzad\n",
      "                             Tyrande      Medivh       Li-Ming\n",
      "                             Uther        Mephisto     Lunara\n",
      "                             Whitemane    Murky        Nazeebo\n",
      "                                          Qhira        Nova\n",
      "                                          Samuro       Orphea\n",
      "                                          The Butcher  Probius\n",
      "                                          Thrall       Ragnaros\n",
      "                                          Tracer       Raynor\n",
      "                                          Valeera      Sgt. Hammer\n",
      "                                          Xul          Sylvanas\n",
      "                                          Zeratul      Tassadar\n",
      "                                                       Tychus\n",
      "                                                       Valla\n",
      "                                                       Zagara\n",
      "                                                       Zul'jin\n",
      "----------------  ---------  -----------  -----------  -----------\n",
      "---------------  -------  -----  -------  -----  -------  -----  -------  -----  -------  -----\n",
      "Metric - Class#  Avg. 0   CV. 0  Avg. 1   CV. 1  Avg. 2   CV. 2  Avg. 3   CV. 3  Avg. 4   CV. 4\n",
      "Takedowns        12.1     0.11   12.9     0.07   13.1     0.03   12.4     0.12   12.3     0.11\n",
      "Kills            3.3      0.29   2.6      0.26   1.7      0.32   4.0      0.31   4.1      0.22\n",
      "Deaths           3.4      0.18   3.5      0.13   2.9      0.12   3.4      0.19   3.2      0.21\n",
      "Hero Dmg         39015.1  0.11   35633.0  0.16   23687.1  0.22   47397.0  0.17   56073.1  0.11\n",
      "Siege Dmg        67370.9  0.33   50073.7  0.33   26870.6  0.28   78260.8  0.3    93574.2  0.28\n",
      "Healing          4173.6   1.17   686.5    2.12   71434.2  0.13   1520.9   2.83   1407.4   3.79\n",
      "Self Heal        31796.7  0.31   25393.3  0.22   2942.6   1.35   13674.9  0.69   5188.8   1.28\n",
      "Dmg Taken        78829.4  0.14   78352.9  0.14   37520.9  0.22   55940.8  0.24   31765.0  0.35\n",
      "XP               12379.7  0.33   9823.1   0.16   7128.4   0.11   12626.5  0.2    12529.9  0.22\n",
      "DPS              174.4    0.3    130.5    0.32   159.2    0.36   173.6    0.36   148.9    0.32\n",
      "Range            2.4      0.73   5.0      0.3    3.7      0.52   3.6      0.52   3.3      0.66\n",
      "HP               2894.8   0.32   2632.0   0.23   2934.8   0.27   2922.3   0.34   2988.6   0.23\n",
      "X0               11.1     0.44   7.4      0.38   0.1      2.17   17.0     0.22   21.7     0.18\n",
      "X1               122.7    0.08   72.3     0.11   41.6     0.38   95.7     0.1    56.7     0.22\n",
      "X2               29.2     0.24   18.6     0.26   15.5     0.2    40.3     0.17   44.6     0.2\n",
      "X3               6.8      0.42   5.8      0.14   40.4     0.22   9.8      0.39   12.2     0.29\n",
      "X4               34.5     0.12   15.4     0.22   7.7      0.66   23.1     0.22   12.5     0.5\n",
      "X5               92.5     0.1    59.8     0.1    62.5     0.22   55.2     0.19   24.7     0.33\n",
      "---------------  -------  -----  -------  -----  -------  -----  -------  -----  -------  -----\n"
     ]
    }
   ],
   "source": [
    "indx = 20 #Data set index\n",
    "numclasses = 5\n",
    "print('Encoding dim1 =',data[indx][1])\n",
    "print('Encoding dim2 =',data[indx][0])\n",
    "print('Loss=',data[indx][2])\n",
    "kmeans_classify(data[indx][3],exclusions,numclasses)\n",
    "\n",
    "\n",
    "#Dim1:Dim2:Comments\n",
    "#3:2:Inspect\n",
    "#4:2:Too much mixing\n",
    "#5:2: healer, tank mixed\n",
    "#6,7:2:Inspect\n",
    "#8:2:damage, tank mixed\n",
    "#4:3:damage, tank mixed\n",
    "#5:3:Sonya tank\n",
    "#6,7,8:3:healers tank\n",
    "#5,8:4:Inspect\n",
    "#6:4:damage in tank\n",
    "#7:4:healers in damage\n",
    "#6:5:damage in tank\n",
    "#7:5:healers in tank\n",
    "#8:5:healers, damage in tank\n",
    "#7:6:Very mixed. Inspect\n",
    "#8:6:Inspect"
   ]
  },
  {
   "cell_type": "code",
   "execution_count": 138,
   "id": "01a0ad50-4fc8-4454-9198-78f8c4830f28",
   "metadata": {
    "tags": []
   },
   "outputs": [
    {
     "name": "stdout",
     "output_type": "stream",
     "text": [
      "Encoding dim1 = 8\n",
      "Encoding dim2 = 6\n",
      "Loss= 0.00023600272834300995\n",
      "---------  ----------------  -----------  ---------  -----------  -----------\n",
      "Anub'arak  Arthas            Alexstrasza  Abathur    Cassia       Alarak\n",
      "Artanis    Chen              Ana          Azmodan    Fenix        Blaze\n",
      "Diablo     Cho               Anduin       Chromie    Gazlowe      D.Va\n",
      "E.T.C.     Illidan           Auriel       Falstad    Greymane     Deathwing\n",
      "Garrosh    Kerrigan          Brightwing   Gall       Gul'dan      Dehaka\n",
      "Johanna    Mal'Ganis         Deckard      Hanzo      Kel'Thuzad   Genji\n",
      "Mei        Rexxar            Kharazim     Jaina      Mephisto     Hogger\n",
      "Muradin    The Lost Vikings  Li Li        Junkrat    Murky        Imperius\n",
      "Sonya      Tyrael            Lt. Morales  Kael'thas  Nova         Leoric\n",
      "Stitches   Yrel              Lúcio        Li-Ming    Orphea       Maiev\n",
      "Varian     Zarya             Malfurion    Lunara     Probius      Malthael\n",
      "                             Rehgar       Nazeebo    Ragnaros     Medivh\n",
      "                             Stukov       Raynor     Samuro       Qhira\n",
      "                             Tyrande      Sylvanas   Sgt. Hammer  The Butcher\n",
      "                             Uther        Tassadar   Xul          Thrall\n",
      "                             Whitemane    Tychus     Zagara       Tracer\n",
      "                                          Valla      Zul'jin      Valeera\n",
      "                                                                  Zeratul\n",
      "---------  ----------------  -----------  ---------  -----------  -----------\n",
      "---------------  -------  -----  -------  -----  -------  -----  -------  -----  -------  -----  -------  -----\n",
      "Metric - Class#  Avg. 0   CV. 0  Avg. 1   CV. 1  Avg. 2   CV. 2  Avg. 3   CV. 3  Avg. 4   CV. 4  Avg. 5   CV. 5\n",
      "Takedowns        12.9     0.07   12.1     0.11   13.1     0.03   12.5     0.08   11.6     0.16   12.9     0.09\n",
      "Kills            2.6      0.26   3.3      0.29   1.7      0.32   4.1      0.18   3.8      0.3    4.2      0.3\n",
      "Deaths           3.5      0.13   3.4      0.18   2.9      0.12   3.0      0.23   3.4      0.16   3.6      0.17\n",
      "Hero Dmg         35633.0  0.16   39015.1  0.11   23687.1  0.22   56470.9  0.11   52791.7  0.17   47228.3  0.13\n",
      "Siege Dmg        50073.7  0.33   67370.9  0.33   26870.6  0.28   91123.4  0.2    99423.7  0.3    69946.4  0.28\n",
      "Healing          686.5    2.12   4173.6   1.17   71434.2  0.13   1516.2   4.0    1112.7   3.03   1734.3   2.78\n",
      "Self Heal        25393.3  0.22   31796.7  0.31   2942.6   1.35   3108.9   1.17   8374.8   0.94   15458.8  0.62\n",
      "Dmg Taken        78352.9  0.14   78829.4  0.14   37520.9  0.22   29078.1  0.4    39873.6  0.23   58878.8  0.24\n",
      "XP               9823.1   0.16   12379.7  0.33   7128.4   0.11   12378.4  0.17   13502.0  0.25   11883.6  0.17\n",
      "DPS              130.5    0.32   174.4    0.3    159.2    0.36   151.1    0.29   158.2    0.34   171.0    0.38\n",
      "Range            5.0      0.3    2.4      0.73   3.7      0.52   3.0      0.69   3.5      0.58   3.8      0.51\n",
      "HP               2632.0   0.23   2894.8   0.32   2934.8   0.27   3063.7   0.23   2789.4   0.26   3017.4   0.34\n",
      "X0               7.4      0.38   11.1     0.44   0.1      2.17   20.7     0.21   22.4     0.12   15.7     0.2\n",
      "X1               72.3     0.11   122.7    0.08   41.6     0.38   48.9     0.19   73.7     0.12   100.0    0.06\n",
      "X2               18.6     0.26   29.2     0.24   15.5     0.2    42.4     0.21   48.2     0.13   37.6     0.14\n",
      "X3               5.8      0.14   6.8      0.42   40.4     0.22   12.3     0.33   11.7     0.21   9.2      0.45\n",
      "X4               15.4     0.22   34.5     0.12   7.7      0.66   9.7      0.36   19.3     0.38   22.7     0.22\n",
      "X5               59.8     0.1    92.5     0.1    62.5     0.22   21.0     0.35   34.8     0.24   59.4     0.14\n",
      "---------------  -------  -----  -------  -----  -------  -----  -------  -----  -------  -----  -------  -----\n"
     ]
    }
   ],
   "source": [
    "indx = 20 #Data set index\n",
    "numclasses = 6\n",
    "print('Encoding dim1 =',data[indx][1])\n",
    "print('Encoding dim2 =',data[indx][0])\n",
    "print('Loss=',data[indx][2])\n",
    "kmeans_classify(data[indx][3],exclusions,numclasses)\n",
    "\n",
    "#Dim1:Dim2:Comments\n",
    "#3:2:Inspect\n",
    "#4:2:healers split: more healing vs more damage\n",
    "#5:2:Kharazim front line\n",
    "#6,7:2:mixed class\n",
    "#8:2:Li-Ming tank\n",
    "#4:3:tank damage dealers mixed\n",
    "#5:3:healer split, mixed class\n",
    "#6,7,8:3:healers misplaced\n",
    "#5:4:Mixed class\n",
    "#6:4:healer split, damage w/ tank\n",
    "#7:4:healers misplaced\n",
    "#8:4:Inspect\n",
    "#6:5:Inspect\n",
    "#7:5:healers misplaced\n",
    "#8:5:tank, damage mixed\n",
    "#7:6:healers misplaced\n",
    "#8:6:Lowest loss"
   ]
  },
  {
   "cell_type": "markdown",
   "id": "b2315427-1d03-41b7-a00b-5b24ddef537a",
   "metadata": {},
   "source": [
    "The results are definitely more versatile relative to direct clustering. Many do not make sense, but some do. This could be an indication that there are too many different and arbitrary ways to classify the heroes, in which case one moves to analysis: pick a classification result and see what you can learn about how a given hero is being played.\n",
    "\n",
    "Of course one could do more experiments including:\n",
    "- Different hyperparameters or architectures\n",
    "- Aim for lower/higher loss with autoencoders\n",
    "- Try self organizing maps\n",
    "- Increase number of classes\n",
    "- Try different clustering technique, perhaps one a ven diagram type that allows for overlap\n",
    "- Redo autoencoder but without internal stats; more direct comparison with plain clustering\n",
    "\n",
    "Let's try the last one really quick"
   ]
  },
  {
   "cell_type": "code",
   "execution_count": 157,
   "id": "38cafb67-68d3-4496-be81-d152d2ca2aa7",
   "metadata": {},
   "outputs": [
    {
     "name": "stdout",
     "output_type": "stream",
     "text": [
      "Encoding dim1 = 8\n",
      "Encoding dim2 = 6\n",
      "Loss= 0.00023600272834300995\n",
      "----------  -------  -----------  ----------------  ---------  ---------  -----------  -----------\n",
      "Anduin      Abathur  Alexstrasza  Arthas            Anub'arak  Azmodan    Cassia       Alarak\n",
      "Brightwing  Chromie  Ana          Chen              Artanis    Falstad    Fenix        Blaze\n",
      "Li Li       Gall     Auriel       Cho               Diablo     Jaina      Gazlowe      D.Va\n",
      "Lúcio       Hanzo    Deckard      Illidan           E.T.C.     Kael'thas  Greymane     Deathwing\n",
      "Malfurion   Junkrat  Kharazim     Kerrigan          Garrosh    Li-Ming    Gul'dan      Dehaka\n",
      "Stukov      Probius  Lt. Morales  Mal'Ganis         Johanna    Lunara     Kel'Thuzad   Genji\n",
      "Tyrande     Zagara   Rehgar       Rexxar            Mei        Nazeebo    Mephisto     Hogger\n",
      "                     Uther        The Lost Vikings  Muradin    Raynor     Murky        Imperius\n",
      "                     Whitemane    Tyrael            Sonya      Sylvanas   Nova         Leoric\n",
      "                                  Yrel              Stitches   Tassadar   Orphea       Maiev\n",
      "                                  Zarya             Varian     Tychus     Ragnaros     Malthael\n",
      "                                                               Valla      Samuro       Medivh\n",
      "                                                               Zul'jin    Sgt. Hammer  Qhira\n",
      "                                                                          Xul          The Butcher\n",
      "                                                                                       Thrall\n",
      "                                                                                       Tracer\n",
      "                                                                                       Valeera\n",
      "                                                                                       Zeratul\n",
      "----------  -------  -----------  ----------------  ---------  ---------  -----------  -----------\n",
      "---------------  -------  -----  --------  -----  -------  -----  -------  -----  -------  -----  -------  -----  -------  -----  -------  -----\n",
      "Metric - Class#  Avg. 0   CV. 0  Avg. 1    CV. 1  Avg. 2   CV. 2  Avg. 3   CV. 3  Avg. 4   CV. 4  Avg. 5   CV. 5  Avg. 6   CV. 6  Avg. 7   CV. 7\n",
      "Takedowns        13.2     0.02   11.9      0.16   13.0     0.04   12.1     0.11   12.9     0.07   12.3     0.07   11.9     0.15   12.9     0.09\n",
      "Kills            1.7      0.17   3.4       0.28   1.7      0.4    3.3      0.29   2.6      0.26   4.3      0.16   3.9      0.28   4.2      0.3\n",
      "Deaths           2.8      0.09   2.5       0.33   2.9      0.14   3.4      0.18   3.5      0.13   3.4      0.12   3.3      0.16   3.6      0.17\n",
      "Hero Dmg         25171.6  0.21   55112.4   0.15   22532.6  0.22   39015.1  0.11   35633.0  0.16   56986.8  0.08   52203.6  0.18   47228.3  0.13\n",
      "Siege Dmg        23967.0  0.17   100161.6  0.19   29128.9  0.3    67370.9  0.33   50073.7  0.33   89881.1  0.21   97836.8  0.32   69946.4  0.28\n",
      "Healing          75751.7  0.1    5629.6    1.68   68076.1  0.13   4173.6   1.17   686.5    2.12   0.0      0.0    377.5    3.61   1734.3   2.78\n",
      "Self Heal        1305.7   1.67   553.9     1.82   4215.7   1.08   31796.7  0.31   25393.3  0.22   5948.5   1.12   8144.0   0.84   15458.8  0.62\n",
      "Dmg Taken        36497.1  0.1    18606.4   0.61   38317.2  0.27   78829.4  0.14   78352.9  0.14   35124.7  0.15   41808.1  0.21   58878.8  0.24\n",
      "XP               6991.1   0.05   12668.4   0.21   7235.2   0.14   12379.7  0.33   9823.1   0.16   12394.0  0.14   13583.2  0.26   11883.6  0.17\n",
      "DPS              132.4    0.3    192.3     0.25   180.0    0.33   174.4    0.3    130.5    0.32   143.5    0.26   146.2    0.34   171.0    0.38\n",
      "Range            4.4      0.39   3.8       0.68   3.2      0.59   2.4      0.73   5.0      0.3    2.7      0.76   3.5      0.47   3.8      0.51\n",
      "HP               2566.3   0.23   2739.7    0.18   3221.4   0.25   2894.8   0.32   2632.0   0.23   3229.0   0.22   2739.1   0.28   3017.4   0.34\n",
      "X0               0.1      3.13   26.1      0.13   0.0      0.0    11.1     0.44   7.4      0.38   18.6     0.08   22.0     0.11   15.7     0.2\n",
      "X1               28.7     0.39   54.2      0.19   51.6     0.2    122.7    0.08   72.3     0.11   48.8     0.18   76.4     0.09   100.0    0.06\n",
      "X2               13.9     0.15   55.0      0.11   16.7     0.19   29.2     0.24   18.6     0.26   37.5     0.09   47.8     0.11   37.6     0.14\n",
      "X3               34.1     0.18   16.2      0.32   45.3     0.17   6.8      0.42   5.8      0.14   10.6     0.06   11.2     0.13   9.2      0.45\n",
      "X4               2.6      0.66   14.4      0.36   11.6     0.24   34.5     0.12   15.4     0.22   9.2      0.37   19.5     0.39   22.7     0.22\n",
      "X5               49.2     0.18   16.8      0.45   72.9     0.07   92.5     0.1    59.8     0.1    24.9     0.24   36.1     0.23   59.4     0.14\n",
      "---------------  -------  -----  --------  -----  -------  -----  -------  -----  -------  -----  -------  -----  -------  -----  -------  -----\n"
     ]
    }
   ],
   "source": [
    "indx = 20 #Data set index\n",
    "numclasses = 8\n",
    "print('Encoding dim1 =',data[indx][1])\n",
    "print('Encoding dim2 =',data[indx][0])\n",
    "print('Loss=',data[indx][2])\n",
    "kmeans_classify(data[indx][3],exclusions,numclasses)\n",
    "\n",
    "#7 classes: Sonya and Varian still in Anubaral class, Genji still with Alarak\n",
    "#8: Same. Hanzo is with siege damage class which is weird."
   ]
  },
  {
   "cell_type": "code",
   "execution_count": 158,
   "id": "8fd39051-d80d-4e53-970e-2e5aa18205d3",
   "metadata": {},
   "outputs": [
    {
     "name": "stdout",
     "output_type": "stream",
     "text": [
      "----------  --------  --------  --------  --------\n",
      "Games       90098     56246     91362     60151\n",
      "Win %          45.4      48.9      50.9      51.3\n",
      "Avg Length     18.96     18.43     19.16     18.61\n",
      "T/D             4.5       4.2       3.8       2.6\n",
      "Takedowns      12.9      14.8      12.8      11.7\n",
      "Kills           4.7       5.6       2.4       4.6\n",
      "Deaths          2.9       3.5       3.3       4.5\n",
      "Hero Dmg    62821     55572     40579     37944\n",
      "Siege Dmg   69607     46003     71933     68214\n",
      "Healing         0         0         0         0\n",
      "Self Heal       0     11935     18163     40067\n",
      "Dmg Taken   25833     53196     74227     67968\n",
      "XP          10829      9769     10843     12200\n",
      "DPS           200.2     259       234.2     212.9\n",
      "Range           5.5       1.5       3.5       2\n",
      "HP           2444      2718      5102      2613\n",
      "----------  --------  --------  --------  --------\n"
     ]
    }
   ],
   "source": [
    "hero1=stats[np.argwhere(heroes==['Hanzo'])].flatten()\n",
    "hero2=stats[np.argwhere(heroes==['Alarak'])].flatten()\n",
    "hero3=stats[np.argwhere(heroes==['Blaze'])].flatten()\n",
    "hero4=stats[np.argwhere(heroes==['Illidan'])].flatten()\n",
    "print(tabulate(np.transpose(np.stack((header,hero1,hero2,hero3,hero4)))))"
   ]
  },
  {
   "cell_type": "code",
   "execution_count": 136,
   "id": "6aa1e42c-b4c7-45ec-bf31-0e4087b03349",
   "metadata": {
    "tags": []
   },
   "outputs": [
    {
     "name": "stdout",
     "output_type": "stream",
     "text": [
      "Encoding dim1 = 8\n",
      "Encoding dim2 = 5\n",
      "Loss= 0.00028589944122359157\n",
      "----------  -----------  -----------  ---------  ----------------\n",
      "Anduin      Alexstrasza  Alarak       Abathur    Arthas\n",
      "Anub'arak   Ana          Chromie      Azmodan    Blaze\n",
      "Artanis     Auriel       Deathwing    Cassia     Chen\n",
      "Brightwing  Deckard      Fenix        Falstad    Cho\n",
      "Diablo      Kharazim     Gall         Gazlowe    D.Va\n",
      "E.T.C.      Li Li        Genji        Greymane   Dehaka\n",
      "Garrosh     Lt. Morales  Kel'Thuzad   Gul'dan    Hogger\n",
      "Johanna     Lúcio        Maiev        Hanzo      Illidan\n",
      "Li-Ming     Malfurion    Medivh       Jaina      Imperius\n",
      "Mei         Rehgar       Mephisto     Junkrat    Kerrigan\n",
      "Muradin     Stukov       Nova         Kael'thas  Leoric\n",
      "Stitches    Tyrande      Probius      Lunara     Mal'Ganis\n",
      "Valla       Uther        Qhira        Nazeebo    Malthael\n",
      "Varian      Whitemane    Samuro       Orphea     Murky\n",
      "                         Sgt. Hammer  Ragnaros   Rexxar\n",
      "                         Tracer       Raynor     The Butcher\n",
      "                         Valeera      Sonya      The Lost Vikings\n",
      "                         Zagara       Sylvanas   Thrall\n",
      "                         Zeratul      Tassadar   Tyrael\n",
      "                                      Tychus     Xul\n",
      "                                      Zul'jin    Yrel\n",
      "                                                 Zarya\n",
      "----------  -----------  -----------  ---------  ----------------\n",
      "---------------  -------  -----  -------  -----  -------  -----  -------  -----  -------  -----\n",
      "Metric - Class#  Avg. 0   CV. 0  Avg. 1   CV. 1  Avg. 2   CV. 2  Avg. 3   CV. 3  Avg. 4   CV. 4\n",
      "Takedowns        13.1     0.05   13.1     0.03   12.9     0.14   12.1     0.08   11.9     0.11\n",
      "Kills            2.7      0.42   1.7      0.34   4.3      0.28   4.0      0.21   3.3      0.28\n",
      "Deaths           3.2      0.18   2.9      0.12   3.2      0.17   3.3      0.21   3.5      0.19\n",
      "Hero Dmg         36981.4  0.35   24212.2  0.21   52380.7  0.12   54849.9  0.13   41086.6  0.15\n",
      "Siege Dmg        48798.0  0.36   26529.6  0.3    75974.3  0.35   94915.2  0.26   78583.5  0.32\n",
      "Healing          11986.4  2.33   70192.1  0.13   2501.8   2.17   1227.4   4.47   2204.9   1.82\n",
      "Self Heal        18948.2  0.59   2904.1   1.4    4936.4   1.17   8305.9   1.02   26159.3  0.4\n",
      "Dmg Taken        65413.4  0.37   38093.6  0.22   37803.8  0.35   37755.9  0.33   72777.0  0.18\n",
      "XP               9323.9   0.14   7119.5   0.12   11281.1  0.17   13173.9  0.21   13225.3  0.26\n",
      "DPS              130.4    0.31   166.1    0.34   175.2    0.36   151.3    0.32   162.7    0.34\n",
      "Range            4.2      0.48   3.8      0.49   3.9      0.56   3.4      0.58   2.9      0.63\n",
      "HP               2761.5   0.23   2930.9   0.27   2625.6   0.31   3088.6   0.24   3051.3   0.31\n",
      "X0               8.0      1.29   17.3     0.41   56.1     0.19   39.0     0.26   19.2     0.48\n",
      "X1               28.8     0.22   85.8     0.2    62.1     0.2    48.3     0.23   62.4     0.16\n",
      "X2               29.9     0.45   11.6     0.71   73.4     0.11   56.6     0.16   75.5     0.11\n",
      "X3               0.0      0.0    0.0      0.0    0.0      0.0    0.0      0.0    0.0      0.0\n",
      "X4               47.7     0.36   59.4     0.22   90.9     0.16   59.5     0.17   98.0     0.13\n",
      "---------------  -------  -----  -------  -----  -------  -----  -------  -----  -------  -----\n"
     ]
    }
   ],
   "source": [
    "indx = 14 #Data set index\n",
    "print('Encoding dim1 =',data[indx][1])\n",
    "print('Encoding dim2 =',data[indx][0])\n",
    "print('Loss=',data[indx][2])\n",
    "kmeans_classify(data[indx][3],exclusions,5)"
   ]
  },
  {
   "cell_type": "code",
   "execution_count": 147,
   "id": "e8639b7a-3053-4adf-a056-516249096ddb",
   "metadata": {},
   "outputs": [],
   "source": [
    "losses = []\n",
    "for i in range(len(data)-1):\n",
    "    losses.append(data[i+1][2])"
   ]
  },
  {
   "cell_type": "code",
   "execution_count": 148,
   "id": "7e7d05c9-1123-4294-a755-84dc44c08c86",
   "metadata": {},
   "outputs": [
    {
     "data": {
      "text/plain": [
       "[0.002310005482286215,\n",
       " 0.002342197811231017,\n",
       " 0.0017399645876139402,\n",
       " 0.0017873409669846296,\n",
       " 0.001989260083064437,\n",
       " 0.0013815489364787936,\n",
       " 0.0031491792760789394,\n",
       " 0.0017219644505530596,\n",
       " 0.0016804293263703585,\n",
       " 0.0011243980843573809,\n",
       " 0.000634494936093688,\n",
       " 0.0017428058199584484,\n",
       " 0.0014256698777899146,\n",
       " 0.00037993403384462,\n",
       " 0.0007330383523367345,\n",
       " 0.0013214664068073034,\n",
       " 0.00031921060872264206,\n",
       " 0.00028589944122359157,\n",
       " 0.0006675118347629905,\n",
       " 0.00023600272834300995]"
      ]
     },
     "execution_count": 148,
     "metadata": {},
     "output_type": "execute_result"
    }
   ],
   "source": [
    "losses"
   ]
  },
  {
   "cell_type": "code",
   "execution_count": 76,
   "id": "c1a62d29-6c2f-4b86-907b-a977390d19c6",
   "metadata": {
    "tags": []
   },
   "outputs": [
    {
     "name": "stdout",
     "output_type": "stream",
     "text": [
      "-----------  ---------  -----------  ---------  ----------------  -----------\n",
      "Ana          Anub'arak  Alexstrasza  Abathur    Cho               Alarak\n",
      "Anduin       Artanis    Deckard      Azmodan    D.Va              Arthas\n",
      "Brightwing   Auriel     Diablo       Cassia     Deathwing         Blaze\n",
      "Li Li        E.T.C.     Li-Ming      Falstad    Fenix             Chen\n",
      "Lt. Morales  Garrosh    Muradin      Hanzo      Hogger            Chromie\n",
      "Lúcio        Johanna    Rehgar       Jaina      Maiev             Dehaka\n",
      "Malfurion    Kharazim   Stitches     Kael'thas  Malthael          Gall\n",
      "Stukov       Raynor     Tyrande      Lunara     Mephisto          Gazlowe\n",
      "             Tychus     Uther        Mei        Murky             Genji\n",
      "             Varian     Valla        Nazeebo    Probius           Greymane\n",
      "                        Whitemane    Nova       Ragnaros          Gul'dan\n",
      "                                     Sonya      Rexxar            Illidan\n",
      "                                     Sylvanas   Samuro            Imperius\n",
      "                                     Tassadar   Sgt. Hammer       Junkrat\n",
      "                                     Zul'jin    The Lost Vikings  Kel'Thuzad\n",
      "                                                Xul               Kerrigan\n",
      "                                                Yrel              Leoric\n",
      "                                                Zarya             Mal'Ganis\n",
      "                                                                  Medivh\n",
      "                                                                  Orphea\n",
      "                                                                  Qhira\n",
      "                                                                  The Butcher\n",
      "                                                                  Thrall\n",
      "                                                                  Tracer\n",
      "                                                                  Tyrael\n",
      "                                                                  Valeera\n",
      "                                                                  Zagara\n",
      "                                                                  Zeratul\n",
      "-----------  ---------  -----------  ---------  ----------------  -----------\n",
      "---------------  -------  -----  -------  -----  -------  -----  -------  -----  -------  -----  -------  -----\n",
      "Metric - Class#  Avg. 0   CV. 0  Avg. 1   CV. 1  Avg. 2   CV. 2  Avg. 3   CV. 3  Avg. 4   CV. 4  Avg. 5   CV. 5\n",
      "Takedowns        13.1     0.02   12.7     0.06   13.2     0.03   12.4     0.08   11.3     0.15   12.8     0.09\n",
      "Kills            1.5      0.24   2.9      0.39   2.5      0.51   3.9      0.24   3.2      0.27   4.1      0.29\n",
      "Deaths           2.8      0.09   3.4      0.1    3.1      0.18   3.2      0.24   3.1      0.2    3.6      0.15\n",
      "Hero Dmg         21803.5  0.21   37621.2  0.3    34711.9  0.43   53030.9  0.16   46517.3  0.19   47944.7  0.18\n",
      "Siege Dmg        22336.2  0.23   49946.1  0.33   42449.0  0.47   85444.2  0.29   99733.9  0.28   71364.0  0.3\n",
      "Healing          74776.6  0.1    13761.7  1.87   37697.1  0.94   1718.4   3.74   2381.8   1.98   1898.9   2.3\n",
      "Self Heal        3637.2   1.33   15775.0  0.73   10204.5  1.18   7673.1   1.17   14370.9  0.72   17028.0  0.85\n",
      "Dmg Taken        34239.9  0.18   61697.2  0.26   51236.4  0.52   37019.9  0.45   58436.6  0.33   53560.4  0.4\n",
      "XP               6721.2   0.08   9680.6   0.14   8449.2   0.18   12430.5  0.19   14642.6  0.26   11379.1  0.16\n",
      "DPS              151.3    0.38   143.7    0.25   149.7    0.38   150.8    0.29   157.7    0.37   172.9    0.34\n",
      "Range            4.1      0.46   4.2      0.52   3.7      0.55   3.3      0.57   2.5      0.7    3.9      0.52\n",
      "HP               2585.9   0.23   2856.8   0.28   2978.8   0.23   3094.7   0.23   2836.8   0.33   2930.9   0.3\n",
      "X0               0.0      0.0    0.0      0.0    0.0      0.0    0.0      0.0    0.3      3.62   0.1      7.63\n",
      "X1               15.8     0.36   53.8     0.07   39.0     0.13   70.5     0.06   108.8    0.04   91.4     0.05\n",
      "---------------  -------  -----  -------  -----  -------  -----  -------  -----  -------  -----  -------  -----\n"
     ]
    }
   ],
   "source": [
    "encoded_stats = encoder.predict(X)\n",
    "kmeans_classify(encoded_stats,exclusions,6)"
   ]
  },
  {
   "cell_type": "code",
   "execution_count": 335,
   "id": "2e1be975-cf08-416a-948e-a8dd52f886cc",
   "metadata": {
    "tags": []
   },
   "outputs": [
    {
     "data": {
      "text/plain": [
       "array([[0.        , 0.        , 0.        , 0.47974724],\n",
       "       [0.        , 0.        , 0.        , 0.39854905],\n",
       "       [0.        , 0.        , 0.        , 0.26497138],\n",
       "       [0.        , 0.        , 0.        , 0.4320862 ],\n",
       "       [0.        , 0.        , 0.        , 0.24292949],\n",
       "       [0.        , 0.        , 0.        , 0.3536292 ],\n",
       "       [0.        , 0.        , 0.        , 0.37702087],\n",
       "       [0.        , 0.        , 0.        , 0.4182535 ],\n",
       "       [0.        , 0.        , 0.        , 0.38674286],\n",
       "       [0.        , 0.        , 0.        , 0.31781885]], dtype=float32)"
      ]
     },
     "execution_count": 335,
     "metadata": {},
     "output_type": "execute_result"
    }
   ],
   "source": [
    "encoder.predict(X)[:10]"
   ]
  },
  {
   "cell_type": "code",
   "execution_count": 362,
   "id": "7eec352c-ae6f-43cb-b203-3bdc9da74ea4",
   "metadata": {
    "tags": []
   },
   "outputs": [
    {
     "name": "stdout",
     "output_type": "stream",
     "text": [
      "1/1 [==============================] - 0s 6ms/step - loss: 0.0045\n"
     ]
    }
   ],
   "source": [
    "autoencoder.fit(X,X,\n",
    "                epochs = 1,\n",
    "                batch_size=90,\n",
    "                verbose='auto');"
   ]
  },
  {
   "cell_type": "code",
   "execution_count": 40,
   "id": "0a9ec6d7-dc84-4098-93d3-ec35d41a19f8",
   "metadata": {},
   "outputs": [
    {
     "data": {
      "text/plain": [
       "(90, 12)"
      ]
     },
     "execution_count": 40,
     "metadata": {},
     "output_type": "execute_result"
    }
   ],
   "source": [
    "X.shape"
   ]
  },
  {
   "cell_type": "code",
   "execution_count": 242,
   "id": "8ce9a86f-f313-450d-bc2b-0c4e9077af95",
   "metadata": {
    "tags": []
   },
   "outputs": [],
   "source": [
    "input_dim = X.shape[1]\n",
    "encoding_dim = 5\n",
    "Xin = keras.Input(shape=(input_dim,))\n",
    "encoded1 = layers.Dense(8,activation='relu')(Xin)\n",
    "encoded2 = layers.Dense(encoding_dim, activation='relu')(encoded1)\n",
    "decoded1 = layers.Dense(8, activation='relu')(encoded2)\n",
    "decoded2 = layers.Dense(input_dim, activation='relu')(decoded1)\n",
    "\n",
    "autoencoder = keras.Model(Xin, decoded2)\n",
    "\n",
    "encoder = keras.Model(Xin,encoded2)\n",
    "#encoded_input = keras.Input(shape=(encoding_dim))\n",
    "#decoder_layer = autoencoder.layers[-1]\n",
    "#decoder = keras.Model(encoded_input, decoder_layer(encoded_input))\n",
    "\n",
    "autoencoder.compile(optimizer='adam',loss='mean_squared_error')"
   ]
  },
  {
   "cell_type": "code",
   "execution_count": 253,
   "id": "f80c737b-01eb-496d-8eec-73db579e8a5c",
   "metadata": {},
   "outputs": [
    {
     "name": "stdout",
     "output_type": "stream",
     "text": [
      "-----------  ---------  -----------  ---------  ----------------\n",
      "Abathur      Anub'arak  Alexstrasza  Azmodan    Alarak\n",
      "Chromie      Artanis    Ana          Cassia     Blaze\n",
      "Fenix        Arthas     Anduin       Falstad    D.Va\n",
      "Gall         Chen       Auriel       Gazlowe    Deathwing\n",
      "Junkrat      Cho        Brightwing   Greymane   Dehaka\n",
      "Kel'Thuzad   Diablo     Deckard      Gul'dan    Genji\n",
      "Mephisto     E.T.C.     Kharazim     Hanzo      Hogger\n",
      "Murky        Garrosh    Li Li        Jaina      Illidan\n",
      "Probius      Imperius   Lt. Morales  Kael'thas  Kerrigan\n",
      "Ragnaros     Johanna    Lúcio        Li-Ming    Leoric\n",
      "Samuro       Mal'Ganis  Malfurion    Lunara     Maiev\n",
      "Sgt. Hammer  Mei        Rehgar       Medivh     Malthael\n",
      "Xul          Muradin    Stukov       Nazeebo    Qhira\n",
      "Zagara       Stitches   Tyrande      Nova       Rexxar\n",
      "             Tyrael     Uther        Orphea     Sonya\n",
      "             Varian     Whitemane    Raynor     The Butcher\n",
      "                                     Sylvanas   The Lost Vikings\n",
      "                                     Tassadar   Thrall\n",
      "                                     Tychus     Tracer\n",
      "                                     Valla      Valeera\n",
      "                                     Zeratul    Yrel\n",
      "                                     Zul'jin    Zarya\n",
      "-----------  ---------  -----------  ---------  ----------------\n",
      "---------------  --------  -----  -------  -----  -------  -----  -------  -----  -------  -----\n",
      "Metric - Class#  Avg. 0    CV. 0  Avg. 1   CV. 1  Avg. 2   CV. 2  Avg. 3   CV. 3  Avg. 4   CV. 4\n",
      "Takedowns        11.5      0.17   13.0     0.06   13.1     0.03   12.5     0.07   12.4     0.11\n",
      "Kills            3.3       0.27   2.8      0.28   1.7      0.32   4.4      0.19   3.9      0.32\n",
      "Deaths           2.9       0.28   3.5      0.13   2.9      0.12   3.4      0.12   3.6      0.18\n",
      "Hero Dmg         51081.6   0.19   37275.7  0.16   23687.1  0.22   55966.6  0.11   44813.0  0.16\n",
      "Siege Dmg        109230.1  0.22   47748.7  0.21   26870.6  0.28   83058.0  0.26   75897.7  0.27\n",
      "Healing          3192.3    2.27   2006.4   1.45   71434.2  0.13   1096.2   3.98   1293.6   2.73\n",
      "Self Heal        4006.6    1.17   26767.4  0.28   2942.6   1.35   6694.5   1.09   21405.5  0.55\n",
      "Dmg Taken        32026.0   0.49   80870.0  0.12   37520.9  0.22   36586.4  0.2    64264.5  0.21\n",
      "XP               14208.9   0.25   9668.4   0.1    7128.4   0.11   11928.4  0.15   12820.9  0.24\n",
      "DPS              166.5     0.32   141.2    0.29   159.2    0.36   149.0    0.29   173.6    0.4\n",
      "Range            3.0       0.73   4.2      0.48   3.7      0.52   3.6      0.56   3.2      0.6\n",
      "HP               2691.0    0.26   2859.4   0.25   2934.8   0.27   2997.6   0.25   2965.5   0.34\n",
      "---------------  --------  -----  -------  -----  -------  -----  -------  -----  -------  -----\n"
     ]
    }
   ],
   "source": [
    "Xenc = encoder.predict(X)\n",
    "kmeans_classify(Xenc,exclusions,5)"
   ]
  },
  {
   "cell_type": "code",
   "execution_count": 251,
   "id": "804e4ea7-7fbb-4bce-ad08-96a2704dc2aa",
   "metadata": {
    "collapsed": true,
    "jupyter": {
     "outputs_hidden": true
    },
    "tags": []
   },
   "outputs": [
    {
     "name": "stdout",
     "output_type": "stream",
     "text": [
      "Epoch 1/100\n",
      "1/1 [==============================] - 0s 9ms/step - loss: 0.0012\n",
      "Epoch 2/100\n",
      "1/1 [==============================] - 0s 13ms/step - loss: 0.0012\n",
      "Epoch 3/100\n",
      "1/1 [==============================] - 0s 14ms/step - loss: 0.0012\n",
      "Epoch 4/100\n",
      "1/1 [==============================] - 0s 12ms/step - loss: 0.0012\n",
      "Epoch 5/100\n",
      "1/1 [==============================] - 0s 33ms/step - loss: 0.0012\n",
      "Epoch 6/100\n",
      "1/1 [==============================] - 0s 21ms/step - loss: 0.0012\n",
      "Epoch 7/100\n",
      "1/1 [==============================] - 0s 12ms/step - loss: 0.0012\n",
      "Epoch 8/100\n",
      "1/1 [==============================] - 0s 14ms/step - loss: 0.0012\n",
      "Epoch 9/100\n",
      "1/1 [==============================] - 0s 12ms/step - loss: 0.0012\n",
      "Epoch 10/100\n",
      "1/1 [==============================] - 0s 14ms/step - loss: 0.0012\n",
      "Epoch 11/100\n",
      "1/1 [==============================] - 0s 12ms/step - loss: 0.0012\n",
      "Epoch 12/100\n",
      "1/1 [==============================] - 0s 26ms/step - loss: 0.0012\n",
      "Epoch 13/100\n",
      "1/1 [==============================] - 0s 12ms/step - loss: 0.0012\n",
      "Epoch 14/100\n",
      "1/1 [==============================] - 0s 14ms/step - loss: 0.0012\n",
      "Epoch 15/100\n",
      "1/1 [==============================] - 0s 18ms/step - loss: 0.0012\n",
      "Epoch 16/100\n",
      "1/1 [==============================] - 0s 17ms/step - loss: 0.0012\n",
      "Epoch 17/100\n",
      "1/1 [==============================] - 0s 11ms/step - loss: 0.0012\n",
      "Epoch 18/100\n",
      "1/1 [==============================] - 0s 7ms/step - loss: 0.0012\n",
      "Epoch 19/100\n",
      "1/1 [==============================] - 0s 9ms/step - loss: 0.0012\n",
      "Epoch 20/100\n",
      "1/1 [==============================] - 0s 11ms/step - loss: 0.0012\n",
      "Epoch 21/100\n",
      "1/1 [==============================] - 0s 9ms/step - loss: 0.0012\n",
      "Epoch 22/100\n",
      "1/1 [==============================] - 0s 8ms/step - loss: 0.0011\n",
      "Epoch 23/100\n",
      "1/1 [==============================] - 0s 13ms/step - loss: 0.0011\n",
      "Epoch 24/100\n",
      "1/1 [==============================] - 0s 12ms/step - loss: 0.0011\n",
      "Epoch 25/100\n",
      "1/1 [==============================] - 0s 10ms/step - loss: 0.0011\n",
      "Epoch 26/100\n",
      "1/1 [==============================] - 0s 8ms/step - loss: 0.0011\n",
      "Epoch 27/100\n",
      "1/1 [==============================] - 0s 12ms/step - loss: 0.0011\n",
      "Epoch 28/100\n",
      "1/1 [==============================] - 0s 11ms/step - loss: 0.0011\n",
      "Epoch 29/100\n",
      "1/1 [==============================] - 0s 8ms/step - loss: 0.0011\n",
      "Epoch 30/100\n",
      "1/1 [==============================] - 0s 11ms/step - loss: 0.0011\n",
      "Epoch 31/100\n",
      "1/1 [==============================] - 0s 11ms/step - loss: 0.0011\n",
      "Epoch 32/100\n",
      "1/1 [==============================] - 0s 11ms/step - loss: 0.0011\n",
      "Epoch 33/100\n",
      "1/1 [==============================] - 0s 11ms/step - loss: 0.0011\n",
      "Epoch 34/100\n",
      "1/1 [==============================] - 0s 14ms/step - loss: 0.0011\n",
      "Epoch 35/100\n",
      "1/1 [==============================] - 0s 21ms/step - loss: 0.0011\n",
      "Epoch 36/100\n",
      "1/1 [==============================] - 0s 29ms/step - loss: 0.0011\n",
      "Epoch 37/100\n",
      "1/1 [==============================] - 0s 36ms/step - loss: 0.0011\n",
      "Epoch 38/100\n",
      "1/1 [==============================] - 0s 15ms/step - loss: 0.0011\n",
      "Epoch 39/100\n",
      "1/1 [==============================] - 0s 12ms/step - loss: 0.0011\n",
      "Epoch 40/100\n",
      "1/1 [==============================] - 0s 13ms/step - loss: 0.0011\n",
      "Epoch 41/100\n",
      "1/1 [==============================] - 0s 21ms/step - loss: 0.0011\n",
      "Epoch 42/100\n",
      "1/1 [==============================] - 0s 10ms/step - loss: 0.0011\n",
      "Epoch 43/100\n",
      "1/1 [==============================] - 0s 11ms/step - loss: 0.0011\n",
      "Epoch 44/100\n",
      "1/1 [==============================] - 0s 13ms/step - loss: 0.0011\n",
      "Epoch 45/100\n",
      "1/1 [==============================] - 0s 12ms/step - loss: 0.0011\n",
      "Epoch 46/100\n",
      "1/1 [==============================] - 0s 14ms/step - loss: 0.0011\n",
      "Epoch 47/100\n",
      "1/1 [==============================] - 0s 10ms/step - loss: 0.0011\n",
      "Epoch 48/100\n",
      "1/1 [==============================] - 0s 15ms/step - loss: 0.0011\n",
      "Epoch 49/100\n",
      "1/1 [==============================] - 0s 18ms/step - loss: 0.0011\n",
      "Epoch 50/100\n",
      "1/1 [==============================] - 0s 21ms/step - loss: 0.0011\n",
      "Epoch 51/100\n",
      "1/1 [==============================] - 0s 24ms/step - loss: 0.0011\n",
      "Epoch 52/100\n",
      "1/1 [==============================] - 0s 13ms/step - loss: 0.0011\n",
      "Epoch 53/100\n",
      "1/1 [==============================] - 0s 8ms/step - loss: 0.0011\n",
      "Epoch 54/100\n",
      "1/1 [==============================] - 0s 10ms/step - loss: 0.0011\n",
      "Epoch 55/100\n",
      "1/1 [==============================] - 0s 9ms/step - loss: 0.0010\n",
      "Epoch 56/100\n",
      "1/1 [==============================] - 0s 11ms/step - loss: 0.0010\n",
      "Epoch 57/100\n",
      "1/1 [==============================] - 0s 10ms/step - loss: 0.0010\n",
      "Epoch 58/100\n",
      "1/1 [==============================] - 0s 11ms/step - loss: 0.0010\n",
      "Epoch 59/100\n",
      "1/1 [==============================] - 0s 10ms/step - loss: 0.0010\n",
      "Epoch 60/100\n",
      "1/1 [==============================] - 0s 9ms/step - loss: 0.0010\n",
      "Epoch 61/100\n",
      "1/1 [==============================] - 0s 10ms/step - loss: 0.0010\n",
      "Epoch 62/100\n",
      "1/1 [==============================] - 0s 13ms/step - loss: 0.0010\n",
      "Epoch 63/100\n",
      "1/1 [==============================] - 0s 11ms/step - loss: 0.0010\n",
      "Epoch 64/100\n",
      "1/1 [==============================] - 0s 25ms/step - loss: 0.0010\n",
      "Epoch 65/100\n",
      "1/1 [==============================] - 0s 9ms/step - loss: 0.0010\n",
      "Epoch 66/100\n",
      "1/1 [==============================] - 0s 18ms/step - loss: 0.0010\n",
      "Epoch 67/100\n",
      "1/1 [==============================] - 0s 36ms/step - loss: 0.0010\n",
      "Epoch 68/100\n",
      "1/1 [==============================] - 0s 14ms/step - loss: 0.0010\n",
      "Epoch 69/100\n",
      "1/1 [==============================] - 0s 12ms/step - loss: 0.0010\n",
      "Epoch 70/100\n",
      "1/1 [==============================] - 0s 10ms/step - loss: 0.0010\n",
      "Epoch 71/100\n",
      "1/1 [==============================] - 0s 13ms/step - loss: 0.0010\n",
      "Epoch 72/100\n",
      "1/1 [==============================] - 0s 13ms/step - loss: 9.9720e-04\n",
      "Epoch 73/100\n",
      "1/1 [==============================] - 0s 8ms/step - loss: 9.9415e-04\n",
      "Epoch 74/100\n",
      "1/1 [==============================] - 0s 9ms/step - loss: 9.9110e-04\n",
      "Epoch 75/100\n",
      "1/1 [==============================] - 0s 11ms/step - loss: 9.8805e-04\n",
      "Epoch 76/100\n",
      "1/1 [==============================] - 0s 12ms/step - loss: 9.8501e-04\n",
      "Epoch 77/100\n",
      "1/1 [==============================] - 0s 13ms/step - loss: 9.8198e-04\n",
      "Epoch 78/100\n",
      "1/1 [==============================] - 0s 10ms/step - loss: 9.7895e-04\n",
      "Epoch 79/100\n",
      "1/1 [==============================] - 0s 10ms/step - loss: 9.7592e-04\n",
      "Epoch 80/100\n",
      "1/1 [==============================] - 0s 7ms/step - loss: 9.7288e-04\n",
      "Epoch 81/100\n",
      "1/1 [==============================] - 0s 9ms/step - loss: 9.6983e-04\n",
      "Epoch 82/100\n",
      "1/1 [==============================] - 0s 11ms/step - loss: 9.6679e-04\n",
      "Epoch 83/100\n",
      "1/1 [==============================] - 0s 10ms/step - loss: 9.6379e-04\n",
      "Epoch 84/100\n",
      "1/1 [==============================] - 0s 10ms/step - loss: 9.6076e-04\n",
      "Epoch 85/100\n",
      "1/1 [==============================] - 0s 10ms/step - loss: 9.5775e-04\n",
      "Epoch 86/100\n",
      "1/1 [==============================] - 0s 10ms/step - loss: 9.5474e-04\n",
      "Epoch 87/100\n",
      "1/1 [==============================] - 0s 9ms/step - loss: 9.5172e-04\n",
      "Epoch 88/100\n",
      "1/1 [==============================] - 0s 11ms/step - loss: 9.4868e-04\n",
      "Epoch 89/100\n",
      "1/1 [==============================] - 0s 11ms/step - loss: 9.4563e-04\n",
      "Epoch 90/100\n",
      "1/1 [==============================] - 0s 8ms/step - loss: 9.4259e-04\n",
      "Epoch 91/100\n",
      "1/1 [==============================] - 0s 11ms/step - loss: 9.3956e-04\n",
      "Epoch 92/100\n",
      "1/1 [==============================] - 0s 11ms/step - loss: 9.3651e-04\n",
      "Epoch 93/100\n",
      "1/1 [==============================] - 0s 15ms/step - loss: 9.3350e-04\n",
      "Epoch 94/100\n",
      "1/1 [==============================] - 0s 17ms/step - loss: 9.3051e-04\n",
      "Epoch 95/100\n",
      "1/1 [==============================] - 0s 9ms/step - loss: 9.2751e-04\n",
      "Epoch 96/100\n",
      "1/1 [==============================] - 0s 11ms/step - loss: 9.2440e-04\n",
      "Epoch 97/100\n",
      "1/1 [==============================] - 0s 9ms/step - loss: 9.2126e-04\n",
      "Epoch 98/100\n",
      "1/1 [==============================] - 0s 18ms/step - loss: 9.1811e-04\n",
      "Epoch 99/100\n",
      "1/1 [==============================] - 0s 10ms/step - loss: 9.1494e-04\n",
      "Epoch 100/100\n",
      "1/1 [==============================] - 0s 18ms/step - loss: 9.1177e-04\n"
     ]
    },
    {
     "data": {
      "text/plain": [
       "<keras.callbacks.History at 0x7fe03ce5d3d0>"
      ]
     },
     "execution_count": 251,
     "metadata": {},
     "output_type": "execute_result"
    }
   ],
   "source": [
    "autoencoder.fit(X,X,epochs = 100,batch_size=90)"
   ]
  },
  {
   "cell_type": "code",
   "execution_count": 56,
   "id": "5caee164-c205-412a-a604-7fc9fdbee8b8",
   "metadata": {},
   "outputs": [
    {
     "name": "stdout",
     "output_type": "stream",
     "text": [
      "----------  ---------  --------\n",
      "Games       201098     134101\n",
      "Win %           47         52\n",
      "Avg Length      19.09      19\n",
      "T/D              3          3.8\n",
      "Takedowns       13         12.2\n",
      "Kills            2.7        2\n",
      "Deaths           4.3        3.2\n",
      "Hero Dmg     35175      33145\n",
      "Siege Dmg    35505      46123\n",
      "Healing          0          0\n",
      "Self Heal    27004      23304\n",
      "Dmg Taken   100042      68433\n",
      "XP            8813       9382\n",
      "DPS            153.8       88.7\n",
      "Range            2.5        5.5\n",
      "HP            4073       2517\n",
      "----------  ---------  --------\n"
     ]
    }
   ],
   "source": [
    "hero1=stats[np.argwhere(heroes==['Diablo'])].flatten()\n",
    "hero2=stats[np.argwhere(heroes==['Anub\\'arak'])].flatten()\n",
    "print(tabulate(np.transpose(np.stack((header,hero1,hero2)))))"
   ]
  },
  {
   "cell_type": "code",
   "execution_count": 85,
   "id": "457ee3ac-343f-4737-a335-dafc21239392",
   "metadata": {},
   "outputs": [
    {
     "data": {
      "text/plain": [
       "array([[0.        , 0.04488558],\n",
       "       [0.        , 0.05266437],\n",
       "       [0.        , 0.05504235],\n",
       "       [0.        , 0.05574748],\n",
       "       [0.        , 0.0389156 ],\n",
       "       [0.        , 0.04844641],\n",
       "       [0.        , 0.        ],\n",
       "       [0.        , 0.06315924],\n",
       "       [0.        , 0.01752857],\n",
       "       [0.        , 0.06055853]], dtype=float32)"
      ]
     },
     "execution_count": 85,
     "metadata": {},
     "output_type": "execute_result"
    }
   ],
   "source": [
    "Xenc[:10]"
   ]
  },
  {
   "cell_type": "code",
   "execution_count": 257,
   "id": "50ad97b5-1ad4-45c8-b02d-8fd5a847b7fd",
   "metadata": {},
   "outputs": [],
   "source": [
    "output = pickle.load(open('test1.pickle','rb'))"
   ]
  },
  {
   "cell_type": "code",
   "execution_count": 272,
   "id": "cb5b1dcb-4a33-47c7-bb83-c139cf3b6a06",
   "metadata": {},
   "outputs": [
    {
     "name": "stdout",
     "output_type": "stream",
     "text": [
      "-----------  ---------  ---------  -----------  --------  ----------------\n",
      "Chromie      Anub'arak  D.Va       Alexstrasza  Arthas    Abathur\n",
      "Fenix        Artanis    Deathwing  Ana          Blaze     Alarak\n",
      "Gall         Chen       Greymane   Anduin       Cho       Azmodan\n",
      "Junkrat      Diablo     Gul'dan    Auriel       Dehaka    Cassia\n",
      "Kel'Thuzad   E.T.C.     Hanzo      Brightwing   Illidan   Falstad\n",
      "Maiev        Garrosh    Hogger     Deckard      Imperius  Gazlowe\n",
      "Mephisto     Johanna    Malthael   Kharazim     Kerrigan  Genji\n",
      "Murky        Mal'Ganis  Nova       Li Li        Leoric    Jaina\n",
      "Probius      Mei        Orphea     Lt. Morales  Li-Ming   Kael'thas\n",
      "Samuro       Muradin    Ragnaros   Lúcio        Raynor    Lunara\n",
      "Sgt. Hammer  Stitches   Valeera    Malfurion    Sonya     Medivh\n",
      "Zagara       Tyrael     Xul        Rehgar       Thrall    Nazeebo\n",
      "             Varian     Zeratul    Stukov       Tychus    Qhira\n",
      "                                   Tyrande      Valla     Rexxar\n",
      "                                   Uther        Yrel      Sylvanas\n",
      "                                   Whitemane    Zul'jin   Tassadar\n",
      "                                                          The Butcher\n",
      "                                                          The Lost Vikings\n",
      "                                                          Tracer\n",
      "                                                          Zarya\n",
      "-----------  ---------  ---------  -----------  --------  ----------------\n",
      "---------------  -------  -----  -------  -----  -------  -----  -------  -----  -------  -----  -------  -----\n",
      "Metric - Class#  Avg. 0   CV. 0  Avg. 1   CV. 1  Avg. 2   CV. 2  Avg. 3   CV. 3  Avg. 4   CV. 4  Avg. 5   CV. 5\n",
      "Takedowns        11.9     0.18   12.9     0.05   12.3     0.11   13.1     0.03   12.5     0.08   12.3     0.11\n",
      "Kills            3.6      0.24   2.6      0.25   4.2      0.29   1.7      0.32   3.9      0.26   4.0      0.28\n",
      "Deaths           3.0      0.16   3.4      0.12   3.5      0.16   2.9      0.12   3.5      0.18   3.3      0.23\n",
      "Hero Dmg         52839.2  0.18   35699.8  0.14   51544.0  0.14   23687.1  0.22   47713.9  0.21   49852.2  0.16\n",
      "Siege Dmg        99503.7  0.18   46700.2  0.23   88572.4  0.4    26870.6  0.28   73984.4  0.19   82694.4  0.31\n",
      "Healing          1576.3   2.48   2269.5   1.38   252.4    3.46   71434.2  0.13   831.1    3.16   3218.6   2.29\n",
      "Self Heal        2243.6   1.11   27791.2  0.29   11557.6  0.79   2942.6   1.35   22575.4  0.57   10145.4  0.87\n",
      "Dmg Taken        32629.4  0.4    80857.9  0.13   47582.7  0.33   37520.9  0.22   61324.3  0.33   45926.6  0.41\n",
      "XP               12814.5  0.21   9562.8   0.11   13218.8  0.26   7128.4   0.11   11885.8  0.14   12899.7  0.26\n",
      "DPS              156.7    0.33   138.7    0.31   143.5    0.32   159.2    0.36   162.9    0.23   176.8    0.4\n",
      "Range            3.0      0.76   4.5      0.44   4.6      0.36   3.7      0.52   3.0      0.66   2.8      0.62\n",
      "HP               2733.9   0.28   2791.5   0.27   2758.7   0.29   2934.8   0.27   3114.6   0.25   2991.0   0.31\n",
      "---------------  -------  -----  -------  -----  -------  -----  -------  -----  -------  -----  -------  -----\n"
     ]
    }
   ],
   "source": [
    "kmeans_classify(output[1][1],exclusions,6)"
   ]
  },
  {
   "cell_type": "code",
   "execution_count": 280,
   "id": "dfd553dd-4e6e-4cc3-8cb2-8329d9bdaf00",
   "metadata": {},
   "outputs": [],
   "source": [
    "np.savez('norm_stats.npz',norm_stats=norm_stats)"
   ]
  },
  {
   "cell_type": "code",
   "execution_count": 281,
   "id": "bc642f0d-60b1-4cf0-88d7-9d8b09aa379b",
   "metadata": {},
   "outputs": [
    {
     "data": {
      "text/plain": [
       "array([[ True,  True,  True, ...,  True,  True,  True],\n",
       "       [ True,  True,  True, ...,  True,  True,  True],\n",
       "       [ True,  True,  True, ...,  True,  True,  True],\n",
       "       ...,\n",
       "       [ True,  True,  True, ...,  True,  True,  True],\n",
       "       [ True,  True,  True, ...,  True,  True,  True],\n",
       "       [ True,  True,  True, ...,  True,  True,  True]])"
      ]
     },
     "execution_count": 281,
     "metadata": {},
     "output_type": "execute_result"
    }
   ],
   "source": [
    "norm_stats == np.load('norm_stats.npz')['norm_stats']"
   ]
  },
  {
   "cell_type": "code",
   "execution_count": null,
   "id": "ab31f23a-b23e-4187-accb-eeaae6634bd2",
   "metadata": {},
   "outputs": [],
   "source": []
  }
 ],
 "metadata": {
  "kernelspec": {
   "display_name": "Python 3 (ipykernel)",
   "language": "python",
   "name": "python3"
  },
  "language_info": {
   "codemirror_mode": {
    "name": "ipython",
    "version": 3
   },
   "file_extension": ".py",
   "mimetype": "text/x-python",
   "name": "python",
   "nbconvert_exporter": "python",
   "pygments_lexer": "ipython3",
   "version": "3.9.12"
  }
 },
 "nbformat": 4,
 "nbformat_minor": 5
}
