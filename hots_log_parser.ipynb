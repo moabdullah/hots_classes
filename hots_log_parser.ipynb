{
 "cells": [
  {
   "cell_type": "code",
   "execution_count": 1,
   "metadata": {},
   "outputs": [],
   "source": [
    "from bs4 import BeautifulSoup\n",
    "import numpy as np\n",
    "import unicodedata"
   ]
  },
  {
   "cell_type": "code",
   "execution_count": 408,
   "metadata": {},
   "outputs": [],
   "source": [
    "#Import html file containing hero server stats\n",
    "#The file is from hotslogs.com\n",
    "\n",
    "with open(\"hots_index.html\") as fp:\n",
    "    soup = BeautifulSoup(fp,'html.parser')"
   ]
  },
  {
   "cell_type": "code",
   "execution_count": 440,
   "metadata": {
    "tags": []
   },
   "outputs": [],
   "source": [
    "#Parse the table header\n",
    "#Inspect HTML code + trial & error\n",
    "header = []\n",
    "for head in soup.find_all('th')[1:]:\n",
    "    blah = head.text\n",
    "    blah = str(blah)\n",
    "    header.append(blah)\n",
    "    if blah == 'XP':   #final entry\n",
    "       break"
   ]
  },
  {
   "cell_type": "code",
   "execution_count": 410,
   "metadata": {},
   "outputs": [
    {
     "name": "stdout",
     "output_type": "stream",
     "text": [
      "['Hero', 'Games', 'Win %', 'Avg Length', 'T/D', 'Takedowns', 'Kills', 'Deaths', 'Hero Dmg', 'Siege Dmg', 'Healing', 'Self Heal', 'Dmg Taken', 'XP']\n"
     ]
    }
   ],
   "source": [
    "#Check header read out\n",
    "print(header)"
   ]
  },
  {
   "cell_type": "code",
   "execution_count": 441,
   "metadata": {},
   "outputs": [],
   "source": [
    "#Parse the table body (hero names and stats)\n",
    "#90 heros and 14 parameters\n",
    "stats_list = [[0 for j in range(14)] for i in range(90)] \n",
    "i=0\n",
    "for row in soup.find_all('tr')[3:93]:\n",
    "    j=0\n",
    "    for col in row.find_all('td')[1:]:\n",
    "        blah = col.text\n",
    "        stats_list[i][j] = str(blah).replace(\"\\xa0\",\"0\")\n",
    "        j+=1\n",
    "    i+=1"
   ]
  },
  {
   "cell_type": "code",
   "execution_count": 412,
   "metadata": {},
   "outputs": [
    {
     "name": "stdout",
     "output_type": "stream",
     "text": [
      "['Mephisto', '49,066', '52.3%', '00:18:43.9610000', '4.6', '13.5', '3.9', '2.9', '65,844', '92,011', '0', '4,463', '44,140', '11,605']\n"
     ]
    }
   ],
   "source": [
    "#Check first line\n",
    "print(stats_list[0])"
   ]
  },
  {
   "cell_type": "code",
   "execution_count": 442,
   "metadata": {},
   "outputs": [],
   "source": [
    "nrows = len(stats_list)\n",
    "ncols = len(stats_list[0])"
   ]
  },
  {
   "cell_type": "code",
   "execution_count": 443,
   "metadata": {},
   "outputs": [],
   "source": [
    "#Extract a list of hero names\n",
    "heroes = []\n",
    "for i in range(len(stats_list)):\n",
    "    heroes.append(stats_list[i][0])"
   ]
  },
  {
   "cell_type": "code",
   "execution_count": 415,
   "metadata": {},
   "outputs": [
    {
     "name": "stdout",
     "output_type": "stream",
     "text": [
      "['Mephisto', \"Zul'jin\", 'Valla', 'Orphea', 'Li-Ming', 'Hanzo', 'Junkrat', 'Cassia', 'Chromie', 'Tychus', \"Gul'dan\", 'Gall', 'Lunara', \"Kael'thas\", 'Tassadar', 'Azmodan', 'Fenix', 'Sgt. Hammer', 'Deathwing', 'Alarak', 'Zagara', 'Nazeebo', 'Tracer', 'Nova', 'Genji', 'Qhira', \"Kel'Thuzad\", 'Malthael', 'Jaina', 'Sylvanas', 'Raynor', 'Falstad', 'Hogger', 'Greymane', 'Gazlowe', 'Thrall', 'Maiev', 'Cho', 'Ragnaros', 'Probius', 'D.Va', 'Artanis', 'Medivh', 'Imperius', 'Leoric', 'Xul', 'Zarya', 'Kerrigan', 'Zeratul', 'Valeera', 'Samuro', 'Sonya', 'Blaze', 'Rexxar', 'Chen', 'Abathur', 'Arthas', 'Varian', 'Stitches', 'Illidan', 'Tyrael', 'Johanna', \"Mal'Ganis\", 'Yrel', 'Mei', 'The Butcher', 'Diablo', 'Tyrande', 'Muradin', 'Dehaka', \"Anub'arak\", 'Kharazim', 'The Lost Vikings', 'Garrosh', 'Murky', 'Li Li', 'Whitemane', 'Stukov', 'Auriel', 'Anduin', 'Lúcio', 'Malfurion', 'E.T.C.', 'Uther', 'Alexstrasza', 'Rehgar', 'Deckard', 'Ana', 'Brightwing', 'Lt. Morales']\n"
     ]
    }
   ],
   "source": [
    "print(heroes)"
   ]
  },
  {
   "cell_type": "code",
   "execution_count": 444,
   "metadata": {},
   "outputs": [],
   "source": [
    "#Convert time from h:m:s to minutes\n",
    "#We probably won't use it but just in case\n",
    "for i in range(nrows):\n",
    "    h, m ,s = stats_list[i][3].split(':')\n",
    "    stats_list[i][3] = str(round(float(h)*60 + float(m)+ float(s)/60,2))"
   ]
  },
  {
   "cell_type": "code",
   "execution_count": 417,
   "metadata": {},
   "outputs": [
    {
     "data": {
      "text/plain": [
       "['18.73']"
      ]
     },
     "execution_count": 417,
     "metadata": {},
     "output_type": "execute_result"
    }
   ],
   "source": [
    "stats_list[0][3].split(':')"
   ]
  },
  {
   "cell_type": "code",
   "execution_count": 418,
   "metadata": {},
   "outputs": [
    {
     "data": {
      "text/plain": [
       "['Mephisto',\n",
       " '49,066',\n",
       " '52.3%',\n",
       " '18.73',\n",
       " '4.6',\n",
       " '13.5',\n",
       " '3.9',\n",
       " '2.9',\n",
       " '65,844',\n",
       " '92,011',\n",
       " '0',\n",
       " '4,463',\n",
       " '44,140',\n",
       " '11,605']"
      ]
     },
     "execution_count": 418,
     "metadata": {},
     "output_type": "execute_result"
    }
   ],
   "source": [
    "stats_list[0]"
   ]
  },
  {
   "cell_type": "code",
   "execution_count": 445,
   "metadata": {},
   "outputs": [],
   "source": [
    "#Numpify the stats\n",
    "#Yes, it's a word\n",
    "stats = np.zeros((nrows,ncols-1))\n",
    "for i in range(nrows):\n",
    "    for j in range(ncols-1):\n",
    "        blah = stats_list[i][j+1].replace(\" \",\"0\").replace(\"'\",\"\").replace(\"%\",\"\").replace(\",\",\"\")\n",
    "        stats[i,j] = float(blah)"
   ]
  },
  {
   "cell_type": "code",
   "execution_count": 420,
   "metadata": {},
   "outputs": [
    {
     "data": {
      "text/plain": [
       "array([4.9066e+04, 5.2300e+01, 1.8730e+01, 4.6000e+00, 1.3500e+01,\n",
       "       3.9000e+00, 2.9000e+00, 6.5844e+04, 9.2011e+04, 0.0000e+00,\n",
       "       4.4630e+03, 4.4140e+04, 1.1605e+04])"
      ]
     },
     "execution_count": 420,
     "metadata": {},
     "output_type": "execute_result"
    }
   ],
   "source": [
    "stats[0]"
   ]
  },
  {
   "cell_type": "code",
   "execution_count": 76,
   "metadata": {},
   "outputs": [],
   "source": [
    "np.savez('hots_stats.npz', header=header, heroes=heroes, stats=stats)"
   ]
  },
  {
   "cell_type": "code",
   "execution_count": 84,
   "metadata": {},
   "outputs": [],
   "source": [
    "#Import html file containing hero internal stats (HP, damage...etc)\n",
    "#The file is from hotsnerd.com\n",
    "#We might use them with dim-red\n",
    "with open(\"hotsnerd.html\") as fp:\n",
    "    soup2 = BeautifulSoup(fp,'html.parser')"
   ]
  },
  {
   "cell_type": "code",
   "execution_count": 282,
   "metadata": {
    "tags": []
   },
   "outputs": [],
   "source": [
    "#Parse the table\n",
    "header = []\n",
    "for head in soup2.find_all('td')[:]:\n",
    "    blah = head.text\n",
    "    blah = str(blah).replace(\"\\n\",\"\").replace(\" \",\"\").replace(\"N/A\",\"0\").replace(\"\\xa0\",\".\")\n",
    "    header.append(blah)\n",
    "    if blah == 'XP': #I don't know why I kept this line.\n",
    "       break"
   ]
  },
  {
   "cell_type": "code",
   "execution_count": 163,
   "metadata": {
    "tags": []
   },
   "outputs": [
    {
     "name": "stdout",
     "output_type": "stream",
     "text": [
      "['1.0', '1.5', '5.5', '6.5', '5.5', '1.5', '1.2', '2.0', '5.5', '5.5', '4.5', '5.5', '4.5', '2.0', '2.0', '7.0', '3.8', '5.5', '2.5', '1.5', '1.0', '1.2', '1.5', '5.5', '6.2', '5.0', '0', '1.2', '1.2', '4.5', '5.5', '1.2', '5.5', '6.5', '2.0', '1.2', '2.0', '5.5', '1.5', '5.5', '5.5', '5.5', '2.0', '1.8', '2.0', '5.5', '5.5', '5.5', '5.5', '5.5', '1.5', '1.3', '5.5', '1.5', '5.5', '4.5', '4.5', '1.0', '1.2', '5.5', '6.5', '5.5', '3.0', '2.2', '2.0', '6.5', '1.5', '5.5', '1.5', '2.0', '5.5', '11.0', '1.5', '1.5', '1.5', '5.5', '6.5', '1.5', '4.0', '6.5', '1.2', '1.5', '5.0', '4.5', '1.5', '6.0', '1.0', '1.2', '5.5', '1.2', '1.2', '1.2', '5.5', '1.5', '1.5', '6.6', '4.5', '1.5', '5.5']\n"
     ]
    }
   ],
   "source": [
    "print(header[4::12])"
   ]
  },
  {
   "cell_type": "code",
   "execution_count": 394,
   "metadata": {},
   "outputs": [],
   "source": [
    "heroes2 = np.array(header[0::12])#names\n",
    "dps = header[1::12]#damage per second\n",
    "rng = header[4::12]#attack range\n",
    "hp = header[5::12]#hit point\n",
    "blah = np.stack((dps,rng,hp))\n",
    "stats2 = np.transpose(blah.astype(float))"
   ]
  },
  {
   "cell_type": "code",
   "execution_count": 395,
   "metadata": {},
   "outputs": [
    {
     "name": "stdout",
     "output_type": "stream",
     "text": [
      "(99,) (99, 3)\n"
     ]
    }
   ],
   "source": [
    "print(heroes2.shape, stats2.shape)"
   ]
  },
  {
   "cell_type": "code",
   "execution_count": 396,
   "metadata": {},
   "outputs": [],
   "source": [
    "temp = [heroes2,stats2]"
   ]
  },
  {
   "cell_type": "code",
   "execution_count": 300,
   "metadata": {},
   "outputs": [],
   "source": [
    "#Some heroes have multiple configuratios or consists of multiple characters\n",
    "#We have to make choices on how to combine them into a single hero\n",
    "heroes2 = temp[0]\n",
    "stats2 = temp[1]"
   ]
  },
  {
   "cell_type": "code",
   "execution_count": 397,
   "metadata": {},
   "outputs": [],
   "source": [
    "#D. Va: Use mech stats only\n",
    "indx = np.argwhere(heroes2==\"D.Va(Mech)\")[0,0]\n",
    "heroes2 = np.delete(heroes2, indx+1,axis=0)\n",
    "stats2 = np.delete(stats2,indx+1,axis=0)\n",
    "heroes2[indx]='D.Va'"
   ]
  },
  {
   "cell_type": "code",
   "execution_count": 398,
   "metadata": {},
   "outputs": [],
   "source": [
    "#Fenix: Average\n",
    "indx = np.argwhere(heroes2==\"Fenix(PhaseBomb)\")[0,0]\n",
    "heroes2 = np.delete(heroes2, indx+1,axis=0)\n",
    "stats2[indx] = (stats2[indx]+stats2[indx+1])/2\n",
    "stats2 = np.delete(stats2,indx+1,axis=0)\n",
    "heroes2[indx]='Fenix'"
   ]
  },
  {
   "cell_type": "code",
   "execution_count": 399,
   "metadata": {},
   "outputs": [],
   "source": [
    "#Gall: Set to Cho\n",
    "indx = np.argwhere(heroes2==\"Gall\")[0,0]\n",
    "indx2 = np.argwhere(heroes2==\"Cho\")[0,0]\n",
    "stats2[indx] = stats2[indx2]"
   ]
  },
  {
   "cell_type": "code",
   "execution_count": 400,
   "metadata": {},
   "outputs": [],
   "source": [
    "#Greymane: Average\n",
    "indx = np.argwhere(heroes2==\"Greymane(Human)\")[0,0]\n",
    "heroes2 = np.delete(heroes2, indx+1,axis=0)\n",
    "stats2[indx] = (stats2[indx]+stats2[indx+1])/2\n",
    "stats2 = np.delete(stats2,indx+1,axis=0)\n",
    "heroes2[indx]='Greymane'"
   ]
  },
  {
   "cell_type": "code",
   "execution_count": 401,
   "metadata": {},
   "outputs": [],
   "source": [
    "#Rexxar: Add DPS and HP, average range\n",
    "indx = np.argwhere(heroes2==\"Rexxar\")[0,0]\n",
    "heroes2 = np.delete(heroes2, indx+1,axis=0)\n",
    "stats2[indx,0::2] = (stats2[indx,0::2]+stats2[indx+1,0::2])\n",
    "stats2[indx,1] = (stats2[indx,1]+stats2[indx+1,1])/2\n",
    "stats2 = np.delete(stats2,indx+1,axis=0)"
   ]
  },
  {
   "cell_type": "code",
   "execution_count": 402,
   "metadata": {},
   "outputs": [],
   "source": [
    "#Hammer: Average\n",
    "indx = np.argwhere(heroes2==\"Sgt.Hammer\")[0,0]\n",
    "heroes2 = np.delete(heroes2, indx+1,axis=0)\n",
    "stats2[indx] = (stats2[indx]+stats2[indx+1])/2\n",
    "stats2 = np.delete(stats2,indx+1,axis=0)\n",
    "heroes2[indx]='Sgt. Hammer'"
   ]
  },
  {
   "cell_type": "code",
   "execution_count": 403,
   "metadata": {},
   "outputs": [],
   "source": [
    "#Vikings: Add DPS and HP, average range\n",
    "indx = np.argwhere(heroes2==\"TheLostVikings(Baleog)\")[0,0]\n",
    "heroes2 = np.delete(heroes2, indx+1,axis=0)\n",
    "heroes2 = np.delete(heroes2, indx+1,axis=0)\n",
    "stats2[indx,0::2] = (stats2[indx,0::2]+stats2[indx+1,0::2]+stats2[indx+2,0::2])\n",
    "stats2[indx,1] = (stats2[indx,1]+stats2[indx+1,1]+stats2[indx+2,1])/3\n",
    "stats2 = np.delete(stats2,indx+1,axis=0)\n",
    "stats2 = np.delete(stats2,indx+1,axis=0)\n",
    "heroes2[indx]='The Lost Vikings'"
   ]
  },
  {
   "cell_type": "code",
   "execution_count": 404,
   "metadata": {},
   "outputs": [],
   "source": [
    "#Varian: Average\n",
    "indx = np.argwhere(heroes2==\"Varian(ColossusSmash)\")[0,0]\n",
    "heroes2 = np.delete(heroes2, indx+1,axis=0)\n",
    "heroes2 = np.delete(heroes2, indx+1,axis=0)\n",
    "stats2[indx] = (stats2[indx]+stats2[indx+1]+stats2[indx+2])/3\n",
    "stats2 = np.delete(stats2,indx+1,axis=0)\n",
    "stats2 = np.delete(stats2,indx+1,axis=0)\n",
    "heroes2[indx]='Varian'"
   ]
  },
  {
   "cell_type": "code",
   "execution_count": 406,
   "metadata": {},
   "outputs": [],
   "source": [
    "#ETC and Rehgar: remove extra value listed from earlier oatch\n",
    "indx = np.argwhere(heroes2==\"E.T.C.\")[0,0]\n",
    "stats2[indx,2]=np.round(stats2[indx,2])\n",
    "                        \n",
    "indx = np.argwhere(heroes2==\"Rehgar\")[0,0]\n",
    "stats2[indx,2]=np.round(stats2[indx,2])"
   ]
  },
  {
   "cell_type": "code",
   "execution_count": 424,
   "metadata": {},
   "outputs": [],
   "source": [
    "stats2sorted = stats2[np.argsort(heroes)]\n"
   ]
  },
  {
   "cell_type": "code",
   "execution_count": 448,
   "metadata": {},
   "outputs": [],
   "source": [
    "stats = np.concatenate((stats,stats2sorted), axis=1)"
   ]
  },
  {
   "cell_type": "code",
   "execution_count": 446,
   "metadata": {},
   "outputs": [],
   "source": [
    "header.extend(['DPS','Range','HP'])"
   ]
  },
  {
   "cell_type": "code",
   "execution_count": 447,
   "metadata": {},
   "outputs": [
    {
     "data": {
      "text/plain": [
       "['Hero',\n",
       " 'Games',\n",
       " 'Win %',\n",
       " 'Avg Length',\n",
       " 'T/D',\n",
       " 'Takedowns',\n",
       " 'Kills',\n",
       " 'Deaths',\n",
       " 'Hero Dmg',\n",
       " 'Siege Dmg',\n",
       " 'Healing',\n",
       " 'Self Heal',\n",
       " 'Dmg Taken',\n",
       " 'XP',\n",
       " 'DPS',\n",
       " 'Range',\n",
       " 'HP']"
      ]
     },
     "execution_count": 447,
     "metadata": {},
     "output_type": "execute_result"
    }
   ],
   "source": [
    "header"
   ]
  },
  {
   "cell_type": "code",
   "execution_count": 449,
   "metadata": {},
   "outputs": [],
   "source": [
    "np.savez('hots_stats_ext.npz', header=header, heroes=heroes, stats=stats)"
   ]
  },
  {
   "cell_type": "code",
   "execution_count": 407,
   "metadata": {},
   "outputs": [
    {
     "data": {
      "text/plain": [
       "array([['Abathur', '55.1', '1.0', '1014.0'],\n",
       "       ['Alarak', '266.5', '1.5', '2888.0'],\n",
       "       ['Alexstrasza', '108.1', '5.5', '2514.0'],\n",
       "       ['Ana', '58.9', '6.5', '2366.0'],\n",
       "       ['Anduin', '125.9', '5.5', '2466.0'],\n",
       "       [\"Anub'arak\", '119.9', '1.5', '3185.0'],\n",
       "       ['Artanis', '163.9', '1.2', '3740.0'],\n",
       "       ['Arthas', '140.7', '2.0', '4236.0'],\n",
       "       ['Auriel', '118.5', '5.5', '2518.0'],\n",
       "       ['Azmodan', '125.4', '5.5', '3649.0'],\n",
       "       ['Blaze', '81.4', '4.5', '4295.0'],\n",
       "       ['Brightwing', '133.1', '5.5', '2111.0'],\n",
       "       ['Cassia', '197.2', '4.5', '2459.0'],\n",
       "       ['Chen', '148.0', '2.0', '3662.0'],\n",
       "       ['Cho', '183.6', '2.0', '4578.0'],\n",
       "       ['Chromie', '121.4', '7.0', '2059.0'],\n",
       "       ['D.Va', '130.4', '3.8', '3110.0'],\n",
       "       ['Deathwing', '153.8', '2.5', '4073.0'],\n",
       "       ['Deckard', '84.9', '1.5', '2637.0'],\n",
       "       ['Dehaka', '175.9', '1.0', '3532.0'],\n",
       "       ['Diablo', '147.5', '1.2', '4184.0'],\n",
       "       ['E.T.C.', '183.3', '1.5', '3333.0'],\n",
       "       ['Falstad', '220.1', '5.5', '2022.0'],\n",
       "       ['Fenix', '170.55', '5.6', '2814.0'],\n",
       "       ['Gall', '183.6', '2.0', '4578.0'],\n",
       "       ['Garrosh', '168.0', '1.2', '3050.0'],\n",
       "       ['Gazlowe', '185.1', '1.2', '3370.0'],\n",
       "       ['Genji', '195.5', '4.5', '2481.0'],\n",
       "       ['Greymane', '262.95', '3.35', '2911.0'],\n",
       "       [\"Gul'dan\", '88.7', '5.5', '2517.0'],\n",
       "       ['Hanzo', '196.4', '6.5', '2037.0'],\n",
       "       ['Hogger', '162.1', '2.0', '3347.0'],\n",
       "       ['Illidan', '210.0', '1.2', '2555.0'],\n",
       "       ['Imperius', '154.9', '2.0', '3518.0'],\n",
       "       ['Jaina', '88.7', '5.5', '2022.0'],\n",
       "       ['Johanna', '133.4', '1.5', '3888.0'],\n",
       "       ['Junkrat', '177.7', '5.5', '2111.0'],\n",
       "       [\"Kael'thas\", '107.3', '5.5', '2362.0'],\n",
       "       [\"Kel'Thuzad\", '106.7', '5.5', '2207.0'],\n",
       "       ['Kerrigan', '212.9', '2.0', '2613.0'],\n",
       "       ['Kharazim', '189.6', '1.8', '3002.0'],\n",
       "       ['Leoric', '131.1', '2.0', '3777.0'],\n",
       "       ['LiLi', '110.9', '5.5', '2222.0'],\n",
       "       ['Li-Ming', '92.9', '5.5', '1881.0'],\n",
       "       ['Lt.Morales', '122.7', '5.5', '2311.0'],\n",
       "       ['Lucio', '108.4', '5.5', '2136.0'],\n",
       "       ['Lunara', '148.2', '5.5', '2117.0'],\n",
       "       ['Maiev', '238.3', '1.5', '2993.0'],\n",
       "       [\"Mal'Ganis\", '129.3', '1.3', '3851.0'],\n",
       "       ['Malfurion', '98.5', '5.5', '2259.0'],\n",
       "       ['Malthael', '110.5', '1.5', '2906.0'],\n",
       "       ['Medivh', '131.2', '5.5', '2282.0'],\n",
       "       ['Mei', '111.1', '4.5', '3888.0'],\n",
       "       ['Mephisto', '97.7', '4.5', '2915.0'],\n",
       "       ['Muradin', '145.1', '1.0', '4095.0'],\n",
       "       ['Murky', '110.9', '1.2', '1081.0'],\n",
       "       ['Nazeebo', '145.1', '5.5', '2224.0'],\n",
       "       ['Nova', '155.3', '6.5', '1925.0'],\n",
       "       ['Orphea', '156.4', '5.5', '2259.0'],\n",
       "       ['Probius', '53.8', '3.0', '1866.0'],\n",
       "       ['Qhira', '148.1', '2.2', '2962.0'],\n",
       "       ['Ragnaros', '221.2', '2.0', '3073.0'],\n",
       "       ['Raynor', '181.4', '6.5', '2148.0'],\n",
       "       ['Rehgar', '189.0', '1.5', '2962.0'],\n",
       "       ['Rexxar', '234.2', '3.5', '5102.0'],\n",
       "       ['Samuro', '252.3', '2.0', '2554.0'],\n",
       "       ['Sgt. Hammer', '228.25', '8.25', '2547.0'],\n",
       "       ['Sonya', '155.1', '1.5', '3629.0'],\n",
       "       ['Stitches', '114.1', '1.5', '4472.0'],\n",
       "       ['Stukov', '259.0', '1.5', '2718.0'],\n",
       "       ['Sylvanas', '200.2', '5.5', '2444.0'],\n",
       "       ['Tassadar', '83.2', '6.5', '2444.0'],\n",
       "       ['TheButcher', '213.5', '1.5', '3343.0'],\n",
       "       ['The Lost Vikings', '350.19999999999993', '3.9', '5060.0'],\n",
       "       ['Thrall', '233.1', '1.5', '2778.0'],\n",
       "       ['Tracer', '170.0', '5.0', '1970.0'],\n",
       "       ['Tychus', '296.0', '4.5', '2850.0'],\n",
       "       ['Tyrael', '144.3', '1.5', '3728.0'],\n",
       "       ['Tyrande', '108.3', '6.0', '2237.0'],\n",
       "       ['Uther', '110.9', '1.0', '2925.0'],\n",
       "       ['Valeera', '233.6', '1.2', '3031.0'],\n",
       "       ['Valla', '173.2', '5.5', '1985.0'],\n",
       "       ['Varian', '210.1', '1.2', '3616.0'],\n",
       "       ['Whitemane', '91.8', '5.5', '2074.0'],\n",
       "       ['Xul', '168.8', '1.5', '3081.0'],\n",
       "       ['Yrel', '176.7', '1.5', '3966.0'],\n",
       "       ['Zagara', '153.6', '6.6', '2296.0'],\n",
       "       ['Zarya', '119.2', '4.5', '3394.0'],\n",
       "       ['Zeratul', '207.0', '1.5', '2402.0'],\n",
       "       [\"Zul'jin\", '174.0', '5.5', '2776.0']], dtype='<U32')"
      ]
     },
     "execution_count": 407,
     "metadata": {},
     "output_type": "execute_result"
    }
   ],
   "source": [
    "np.concatenate((np.transpose(heroes2[np.newaxis]),stats2),axis=1)"
   ]
  },
  {
   "cell_type": "code",
   "execution_count": 374,
   "metadata": {},
   "outputs": [
    {
     "name": "stdout",
     "output_type": "stream",
     "text": [
      "(90, 3) (90, 1)\n"
     ]
    }
   ],
   "source": [
    "print(stats2.shape,np.transpose(heroes2[np.newaxis]).shape)"
   ]
  },
  {
   "cell_type": "code",
   "execution_count": 349,
   "metadata": {},
   "outputs": [
    {
     "data": {
      "text/plain": [
       "array(['Abathur', 'Alarak', 'Alexstrasza', 'Ana', 'Anduin', \"Anub'arak\",\n",
       "       'Artanis', 'Arthas', 'Auriel', 'Azmodan', 'Blaze', 'Brightwing',\n",
       "       'Cassia', 'Chen', 'Cho', 'Chromie', 'D.Va', 'Deathwing', 'Deckard',\n",
       "       'Dehaka', 'Diablo', 'E.T.C.', 'Falstad', 'Fenix', 'Gall',\n",
       "       'Garrosh', 'Gazlowe', 'Genji', 'Greymane', \"Gul'dan\", 'Hanzo',\n",
       "       'Hogger', 'Illidan', 'Imperius', 'Jaina', 'Johanna', 'Junkrat',\n",
       "       \"Kael'thas\", \"Kel'Thuzad\", 'Kerrigan', 'Kharazim', 'Leoric',\n",
       "       'LiLi', 'Li-Ming', 'Lt.Morales', 'Lucio', 'Lunara', 'Maiev',\n",
       "       \"Mal'Ganis\", 'Malfurion', 'Malthael', 'Medivh', 'Mei', 'Mephisto',\n",
       "       'Muradin', 'Murky', 'Nazeebo', 'Nova', 'Orphea', 'Probius',\n",
       "       'Qhira', 'Ragnaros', 'Raynor', 'Rehgar', 'Rexxar', 'Samuro',\n",
       "       'Sgt. Hammer', 'Sonya', 'Stitches', 'Stukov', 'Sylvanas',\n",
       "       'Tassadar', 'TheButcher', 'The Lost Vikings', 'Thrall', 'Tracer',\n",
       "       'Tychus', 'Tyrael', 'Tyrande', 'Uther', 'Valeera', 'Valla',\n",
       "       'Varian', 'Whitemane', 'Xul', 'Yrel', 'Zagara', 'Zarya', 'Zeratul',\n",
       "       \"Zul'jin\"], dtype='<U22')"
      ]
     },
     "execution_count": 349,
     "metadata": {},
     "output_type": "execute_result"
    }
   ],
   "source": [
    "heroes2"
   ]
  },
  {
   "cell_type": "code",
   "execution_count": 267,
   "metadata": {},
   "outputs": [],
   "source": [
    "blah = stats2"
   ]
  },
  {
   "cell_type": "code",
   "execution_count": 270,
   "metadata": {},
   "outputs": [],
   "source": [
    "blah[0]=np.array([1,2,3])"
   ]
  },
  {
   "cell_type": "code",
   "execution_count": 271,
   "metadata": {},
   "outputs": [
    {
     "data": {
      "text/plain": [
       "array([[1.0000000e+00, 2.0000000e+00, 3.0000000e+00],\n",
       "       [2.6650000e+02, 1.5000000e+00, 2.8880000e+03],\n",
       "       [1.0810000e+02, 5.5000000e+00, 2.5140000e+03],\n",
       "       [5.8900000e+01, 6.5000000e+00, 2.3660000e+03],\n",
       "       [1.2590000e+02, 5.5000000e+00, 2.4660000e+03],\n",
       "       [1.1990000e+02, 1.5000000e+00, 3.1850000e+03],\n",
       "       [1.6390000e+02, 1.2000000e+00, 3.7400000e+03],\n",
       "       [1.4070000e+02, 2.0000000e+00, 4.2360000e+03],\n",
       "       [1.1850000e+02, 5.5000000e+00, 2.5180000e+03],\n",
       "       [1.2540000e+02, 5.5000000e+00, 3.6490000e+03],\n",
       "       [8.1400000e+01, 4.5000000e+00, 4.2950000e+03],\n",
       "       [1.3310000e+02, 5.5000000e+00, 2.1110000e+03],\n",
       "       [1.9720000e+02, 4.5000000e+00, 2.4590000e+03],\n",
       "       [1.4800000e+02, 2.0000000e+00, 3.6620000e+03],\n",
       "       [1.8360000e+02, 2.0000000e+00, 4.5780000e+03],\n",
       "       [1.2140000e+02, 7.0000000e+00, 2.0590000e+03],\n",
       "       [1.3040000e+02, 3.8000000e+00, 3.1100000e+03],\n",
       "       [1.5380000e+02, 2.5000000e+00, 4.0730000e+03],\n",
       "       [8.4900000e+01, 1.5000000e+00, 2.6370000e+03],\n",
       "       [1.7590000e+02, 1.0000000e+00, 3.5320000e+03],\n",
       "       [1.4750000e+02, 1.2000000e+00, 4.1840000e+03],\n",
       "       [1.8330000e+02, 1.5000000e+00, 3.3333377e+03],\n",
       "       [2.2010000e+02, 5.5000000e+00, 2.0220000e+03],\n",
       "       [1.1370000e+02, 6.2000000e+00, 2.8140000e+03],\n",
       "       [2.2740000e+02, 5.0000000e+00, 2.8140000e+03],\n",
       "       [0.0000000e+00, 0.0000000e+00, 0.0000000e+00],\n",
       "       [1.6800000e+02, 1.2000000e+00, 3.0500000e+03],\n",
       "       [1.8510000e+02, 1.2000000e+00, 3.3700000e+03],\n",
       "       [1.9550000e+02, 4.5000000e+00, 2.4810000e+03],\n",
       "       [2.1910000e+02, 5.5000000e+00, 2.9110000e+03],\n",
       "       [3.0680000e+02, 1.2000000e+00, 2.9110000e+03],\n",
       "       [8.8700000e+01, 5.5000000e+00, 2.5170000e+03],\n",
       "       [1.9640000e+02, 6.5000000e+00, 2.0370000e+03],\n",
       "       [1.6210000e+02, 2.0000000e+00, 3.3470000e+03],\n",
       "       [2.1000000e+02, 1.2000000e+00, 2.5550000e+03],\n",
       "       [1.5490000e+02, 2.0000000e+00, 3.5180000e+03],\n",
       "       [8.8700000e+01, 5.5000000e+00, 2.0220000e+03],\n",
       "       [1.3340000e+02, 1.5000000e+00, 3.8880000e+03],\n",
       "       [1.7770000e+02, 5.5000000e+00, 2.1110000e+03],\n",
       "       [1.0730000e+02, 5.5000000e+00, 2.3620000e+03],\n",
       "       [1.0670000e+02, 5.5000000e+00, 2.2070000e+03],\n",
       "       [2.1290000e+02, 2.0000000e+00, 2.6130000e+03],\n",
       "       [1.8960000e+02, 1.8000000e+00, 3.0020000e+03],\n",
       "       [1.3110000e+02, 2.0000000e+00, 3.7770000e+03],\n",
       "       [1.1090000e+02, 5.5000000e+00, 2.2220000e+03],\n",
       "       [9.2900000e+01, 5.5000000e+00, 1.8810000e+03],\n",
       "       [1.2270000e+02, 5.5000000e+00, 2.3110000e+03],\n",
       "       [1.0840000e+02, 5.5000000e+00, 2.1360000e+03],\n",
       "       [1.4820000e+02, 5.5000000e+00, 2.1170000e+03],\n",
       "       [2.3830000e+02, 1.5000000e+00, 2.9930000e+03],\n",
       "       [1.2930000e+02, 1.3000000e+00, 3.8510000e+03],\n",
       "       [9.8500000e+01, 5.5000000e+00, 2.2590000e+03],\n",
       "       [1.1050000e+02, 1.5000000e+00, 2.9060000e+03],\n",
       "       [1.3120000e+02, 5.5000000e+00, 2.2820000e+03],\n",
       "       [1.1110000e+02, 4.5000000e+00, 3.8880000e+03],\n",
       "       [9.7700000e+01, 4.5000000e+00, 2.9150000e+03],\n",
       "       [1.4510000e+02, 1.0000000e+00, 4.0950000e+03],\n",
       "       [1.1090000e+02, 1.2000000e+00, 1.0810000e+03],\n",
       "       [1.4510000e+02, 5.5000000e+00, 2.2240000e+03],\n",
       "       [1.5530000e+02, 6.5000000e+00, 1.9250000e+03],\n",
       "       [1.5640000e+02, 5.5000000e+00, 2.2590000e+03],\n",
       "       [5.3800000e+01, 3.0000000e+00, 1.8660000e+03],\n",
       "       [1.4810000e+02, 2.2000000e+00, 2.9620000e+03],\n",
       "       [2.2120000e+02, 2.0000000e+00, 3.0730000e+03],\n",
       "       [1.8140000e+02, 6.5000000e+00, 2.1480000e+03],\n",
       "       [1.8900000e+02, 1.5000000e+00, 2.9622866e+03],\n",
       "       [1.7260000e+02, 5.5000000e+00, 2.6810000e+03],\n",
       "       [6.1600000e+01, 1.5000000e+00, 2.4210000e+03],\n",
       "       [2.5230000e+02, 2.0000000e+00, 2.5540000e+03],\n",
       "       [2.0760000e+02, 5.5000000e+00, 2.5470000e+03],\n",
       "       [2.4890000e+02, 1.1000000e+01, 2.5470000e+03],\n",
       "       [1.5510000e+02, 1.5000000e+00, 3.6290000e+03],\n",
       "       [1.1410000e+02, 1.5000000e+00, 4.4720000e+03],\n",
       "       [2.5900000e+02, 1.5000000e+00, 2.7180000e+03],\n",
       "       [2.0020000e+02, 5.5000000e+00, 2.4440000e+03],\n",
       "       [8.3200000e+01, 6.5000000e+00, 2.4440000e+03],\n",
       "       [2.1350000e+02, 1.5000000e+00, 3.3430000e+03],\n",
       "       [1.2820000e+02, 4.0000000e+00, 1.6740000e+03],\n",
       "       [1.3760000e+02, 6.5000000e+00, 1.1910000e+03],\n",
       "       [8.4400000e+01, 1.2000000e+00, 2.1950000e+03],\n",
       "       [2.3310000e+02, 1.5000000e+00, 2.7780000e+03],\n",
       "       [1.7000000e+02, 5.0000000e+00, 1.9700000e+03],\n",
       "       [2.9600000e+02, 4.5000000e+00, 2.8500000e+03],\n",
       "       [1.4430000e+02, 1.5000000e+00, 3.7280000e+03],\n",
       "       [1.0830000e+02, 6.0000000e+00, 2.2370000e+03],\n",
       "       [1.1090000e+02, 1.0000000e+00, 2.9250000e+03],\n",
       "       [2.3360000e+02, 1.2000000e+00, 3.0310000e+03],\n",
       "       [1.7320000e+02, 5.5000000e+00, 1.9850000e+03],\n",
       "       [2.7400000e+02, 1.2000000e+00, 2.9580000e+03],\n",
       "       [1.3700000e+02, 1.2000000e+00, 4.6030000e+03],\n",
       "       [2.1930000e+02, 1.2000000e+00, 3.2870000e+03],\n",
       "       [9.1800000e+01, 5.5000000e+00, 2.0740000e+03],\n",
       "       [1.6880000e+02, 1.5000000e+00, 3.0810000e+03],\n",
       "       [1.7670000e+02, 1.5000000e+00, 3.9660000e+03],\n",
       "       [1.5360000e+02, 6.6000000e+00, 2.2960000e+03],\n",
       "       [1.1920000e+02, 4.5000000e+00, 3.3940000e+03],\n",
       "       [2.0700000e+02, 1.5000000e+00, 2.4020000e+03],\n",
       "       [1.7400000e+02, 5.5000000e+00, 2.7760000e+03]])"
      ]
     },
     "execution_count": 271,
     "metadata": {},
     "output_type": "execute_result"
    }
   ],
   "source": [
    "blah"
   ]
  },
  {
   "cell_type": "code",
   "execution_count": 377,
   "metadata": {},
   "outputs": [],
   "source": [
    "A = np.arange(3)"
   ]
  },
  {
   "cell_type": "code",
   "execution_count": 389,
   "metadata": {},
   "outputs": [
    {
     "name": "stdout",
     "output_type": "stream",
     "text": [
      "[4 1 5]\n"
     ]
    }
   ],
   "source": [
    "A[0:3:2]=np.array([4,5])\n",
    "print(A)"
   ]
  },
  {
   "cell_type": "code",
   "execution_count": 390,
   "metadata": {},
   "outputs": [
    {
     "data": {
      "text/plain": [
       "array([4])"
      ]
     },
     "execution_count": 390,
     "metadata": {},
     "output_type": "execute_result"
    }
   ],
   "source": [
    "A[0:1]"
   ]
  },
  {
   "cell_type": "code",
   "execution_count": null,
   "metadata": {},
   "outputs": [],
   "source": []
  }
 ],
 "metadata": {
  "kernelspec": {
   "display_name": "Python 3 (ipykernel)",
   "language": "python",
   "name": "python3"
  },
  "language_info": {
   "codemirror_mode": {
    "name": "ipython",
    "version": 3
   },
   "file_extension": ".py",
   "mimetype": "text/x-python",
   "name": "python",
   "nbconvert_exporter": "python",
   "pygments_lexer": "ipython3",
   "version": "3.9.12"
  }
 },
 "nbformat": 4,
 "nbformat_minor": 4
}
