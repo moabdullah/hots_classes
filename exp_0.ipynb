{
 "cells": [
  {
   "cell_type": "markdown",
   "id": "1c0b5e3f-0ba0-466a-a638-e4ee87119d49",
   "metadata": {},
   "source": [
    "We will try to cluster the heroes from Heroes of the Storm according to the player stats from hotslogs.com\n",
    "First we will try k-mean clustering alone, then we will try it with the help of an autoencoder. "
   ]
  },
  {
   "cell_type": "markdown",
   "id": "27ccb709-bd72-4184-9a7c-9896e4e9ab5f",
   "metadata": {
    "tags": []
   },
   "source": [
    "Let's begin with k-mean clustering.\n",
    "If the playerbase played each hero according to their optimal role, we expect the following classes:\n",
    "Front line/Main tank: takes the lead in hero-hero fights\n",
    "Damage dealer: deals high hero damage\n",
    "Side laner: absorbs minion lanes (high siege damage)\n",
    "Support: Form factor in team fights and/or healer\n",
    "\n",
    "Some heroes can perform more than one role."
   ]
  },
  {
   "cell_type": "code",
   "execution_count": 2,
   "id": "7c8f4a6e-6501-4e18-a008-0236cb5027bc",
   "metadata": {},
   "outputs": [],
   "source": [
    "import numpy as np\n",
    "import sklearn\n",
    "from sklearn import preprocessing\n",
    "from sklearn.cluster import KMeans"
   ]
  },
  {
   "cell_type": "code",
   "execution_count": 3,
   "id": "64c38e4d-c357-4f66-9520-e91d748a22dc",
   "metadata": {},
   "outputs": [],
   "source": [
    "import itertools\n",
    "from tabulate import tabulate"
   ]
  },
  {
   "cell_type": "code",
   "execution_count": 4,
   "id": "b9d9328c-9473-4841-a69b-1be52545876a",
   "metadata": {},
   "outputs": [],
   "source": [
    "def kmeans_classify(X, exclusions, nclasses):\n",
    "    \n",
    "    #perform clustering and call the class indices\n",
    "    kmeans = KMeans(n_clusters=nclasses, tol=1e-6).fit(X)\n",
    "    indx = kmeans.labels_\n",
    "    \n",
    "    #Order classes by size\n",
    "    #This way the classes don't bounce around after re-run\n",
    "    cls_size = np.unique(indx, return_counts=True)[1]\n",
    "    sorted_indx = np.argsort(cls_size)\n",
    "\n",
    "    l=[]\n",
    "    for i in sorted_indx:\n",
    "        ltemp = list(heroes[np.argwhere(indx==i)].flatten())\n",
    "        ltemp.sort()\n",
    "        l.append(ltemp)\n",
    "    ltrans = list(map(list,itertools.zip_longest(*l,fillvalue=None)))\n",
    "    print(tabulate(ltrans))\n",
    "\n",
    "    #remove exlucded columns from header and table\n",
    "    header2 = np.delete(header,exclusions,0)\n",
    "    stats2 = np.delete(stats,exclusions,1)\n",
    "    \n",
    "    #Print the mean and std of stats in each class\n",
    "    cls_avg = []\n",
    "    cls_avg = [np.append('Metric - Class#',header2)]\n",
    "    j=0\n",
    "    for i in sorted_indx:\n",
    "        avg = np.round(np.mean(stats2[np.argwhere(indx==i).flatten()],axis=0),1)\n",
    "        std = np.std(stats2[np.argwhere(indx==i).flatten()],axis=0)\n",
    "        cv = np.round(std/(avg+1e-6),2)\n",
    "        avg = np.append('Avg. %d'%j,avg)\n",
    "        std = np.append('CV. %d'%j,cv)\n",
    "        j+=1\n",
    "\n",
    "        cls_avg.append(avg)\n",
    "        cls_avg.append(std)\n",
    "    cls_avg = list(map(list,zip(*cls_avg)))\n",
    "    print(tabulate(cls_avg))"
   ]
  },
  {
   "cell_type": "code",
   "execution_count": 5,
   "id": "f720dc1e-a470-47da-900f-23a2931359f8",
   "metadata": {},
   "outputs": [],
   "source": [
    "#Load data\n",
    "d = np.load('hots_stats.npz')\n",
    "header = d['header'][1:]\n",
    "heroes = d['heroes']\n",
    "stats = d['stats']"
   ]
  },
  {
   "cell_type": "code",
   "execution_count": 6,
   "id": "7838ca56-e86e-4e74-a247-c8db362fcb05",
   "metadata": {},
   "outputs": [],
   "source": [
    "#Normalize data\n",
    "normalizer = preprocessing.Normalizer()\n",
    "norm_stats = normalizer.transform(stats)  "
   ]
  },
  {
   "cell_type": "code",
   "execution_count": 7,
   "id": "f51108b3-a3c4-43c2-a841-92b804647bed",
   "metadata": {},
   "outputs": [],
   "source": [
    "#Remove Games, Win rate, Avg. game duration (superfluous) and T/D (redundant)\n",
    "X = np.delete(norm_stats,[0,1,2,3],1)\n",
    "#Exclude these rows from the print out\n",
    "exclusions = [0,1,2,3]"
   ]
  },
  {
   "cell_type": "code",
   "execution_count": 8,
   "id": "057a8da3-daee-4fec-89f0-220d3213743f",
   "metadata": {},
   "outputs": [
    {
     "name": "stdout",
     "output_type": "stream",
     "text": [
      "---------  -----------  ----------------  -----------\n",
      "Anub'arak  Alexstrasza  Alarak            Abathur\n",
      "Artanis    Ana          Arthas            Azmodan\n",
      "Diablo     Anduin       Blaze             Cassia\n",
      "E.T.C.     Auriel       Chen              Chromie\n",
      "Garrosh    Brightwing   Cho               Deathwing\n",
      "Johanna    Deckard      D.Va              Falstad\n",
      "Li-Ming    Kharazim     Dehaka            Fenix\n",
      "Mei        Li Li        Genji             Gall\n",
      "Muradin    Lt. Morales  Hogger            Gazlowe\n",
      "Raynor     Lúcio        Illidan           Greymane\n",
      "Sonya      Malfurion    Imperius          Gul'dan\n",
      "Stitches   Rehgar       Kerrigan          Hanzo\n",
      "Tychus     Stukov       Leoric            Jaina\n",
      "Valla      Tyrande      Maiev             Junkrat\n",
      "Varian     Uther        Mal'Ganis         Kael'thas\n",
      "           Whitemane    Malthael          Kel'Thuzad\n",
      "                        Medivh            Lunara\n",
      "                        Qhira             Mephisto\n",
      "                        Rexxar            Murky\n",
      "                        The Butcher       Nazeebo\n",
      "                        The Lost Vikings  Nova\n",
      "                        Thrall            Orphea\n",
      "                        Tracer            Probius\n",
      "                        Tyrael            Ragnaros\n",
      "                        Valeera           Samuro\n",
      "                        Yrel              Sgt. Hammer\n",
      "                        Zarya             Sylvanas\n",
      "                                          Tassadar\n",
      "                                          Xul\n",
      "                                          Zagara\n",
      "                                          Zeratul\n",
      "                                          Zul'jin\n",
      "---------  -----------  ----------------  -----------\n",
      "---------------  -------  -----  -------  -----  -------  -----  -------  -----\n",
      "Metric - Class#  Avg. 0   CV. 0  Avg. 1   CV. 1  Avg. 2   CV. 2  Avg. 3   CV. 3\n",
      "Takedowns        12.8     0.07   13.1     0.03   12.6     0.1    12.0     0.13\n",
      "Kills            3.2      0.35   1.7      0.32   3.8      0.31   3.9      0.26\n",
      "Deaths           3.4      0.14   2.9      0.12   3.6      0.16   3.2      0.21\n",
      "Hero Dmg         42011.1  0.28   23687.1  0.22   43733.8  0.15   53678.9  0.15\n",
      "Siege Dmg        57165.2  0.33   26870.6  0.28   68230.3  0.31   96579.1  0.26\n",
      "Healing          503.4    2.55   71434.2  0.13   2735.0   1.88   1499.2   3.37\n",
      "Self Heal        19940.4  0.52   2942.6   1.35   22243.3  0.57   6340.5   1.13\n",
      "Dmg Taken        66472.3  0.33   37520.9  0.22   67947.4  0.23   35291.8  0.35\n",
      "XP               10171.6  0.14   7128.4   0.11   12038.3  0.25   13140.4  0.22\n",
      "---------------  -------  -----  -------  -----  -------  -----  -------  -----\n"
     ]
    }
   ],
   "source": [
    "kmeans_classify(X=X,exclusions=exclusions,nclasses=4)\n",
    "#with 4 classes healers already isolated\n",
    "#but we see damage dealers with tanks"
   ]
  },
  {
   "cell_type": "code",
   "execution_count": 9,
   "id": "42c413e1-6414-46cf-a8d0-dc0ed8ea9998",
   "metadata": {},
   "outputs": [
    {
     "name": "stdout",
     "output_type": "stream",
     "text": [
      "----------  ---------  ---------  --------\n",
      "Games       146356     216085     94831\n",
      "Win %           49.4       50.8      49.6\n",
      "Avg Length      18.93      18.95     19.13\n",
      "T/D              3.4        3.9       4.2\n",
      "Takedowns       11.3       13.1      11.3\n",
      "Kills            3.9        5.3       2.6\n",
      "Deaths           3.4        3.4       2.7\n",
      "Hero Dmg     51078      63637     34286\n",
      "Siege Dmg    65184      77053     94981\n",
      "Healing          0          0         0\n",
      "Self Heal    11314       4916     25718\n",
      "Dmg Taken    38297      32673     76365\n",
      "XP           11229      10963     15179\n",
      "----------  ---------  ---------  --------\n"
     ]
    }
   ],
   "source": [
    "#Inspect stats of misplaced damage dealers\n",
    "hero1=stats[np.argwhere(heroes==['Raynor'])].flatten()\n",
    "hero2=stats[np.argwhere(heroes==['Valla'])].flatten()\n",
    "hero3=stats[np.argwhere(heroes==['Dehaka'])].flatten()\n",
    "print(tabulate(np.transpose(np.stack((header,hero1,hero2,hero3)))))\n",
    "#They do seem different. perhaps they were leftovers who did not fit anywhere else"
   ]
  },
  {
   "cell_type": "code",
   "execution_count": 10,
   "id": "ad16b6dc-0e12-4deb-981e-96d97842a80f",
   "metadata": {},
   "outputs": [
    {
     "name": "stdout",
     "output_type": "stream",
     "text": [
      "---------  -----------  -----------  ---------  ----------------\n",
      "Anub'arak  Alexstrasza  Abathur      Azmodan    Alarak\n",
      "Artanis    Ana          Chromie      Cassia     Arthas\n",
      "Diablo     Anduin       Deathwing    Falstad    Blaze\n",
      "E.T.C.     Auriel       Fenix        Gazlowe    Chen\n",
      "Garrosh    Brightwing   Gall         Greymane   Cho\n",
      "Johanna    Deckard      Gul'dan      Hanzo      D.Va\n",
      "Mei        Kharazim     Junkrat      Jaina      Dehaka\n",
      "Muradin    Li Li        Kel'Thuzad   Kael'thas  Genji\n",
      "Sonya      Lt. Morales  Mephisto     Li-Ming    Hogger\n",
      "Stitches   Lúcio        Murky        Lunara     Illidan\n",
      "Varian     Malfurion    Probius      Nazeebo    Imperius\n",
      "           Rehgar       Ragnaros     Nova       Kerrigan\n",
      "           Stukov       Samuro       Orphea     Leoric\n",
      "           Tyrande      Sgt. Hammer  Raynor     Maiev\n",
      "           Uther        Xul          Sylvanas   Mal'Ganis\n",
      "           Whitemane    Zagara       Tassadar   Malthael\n",
      "                                     Tychus     Medivh\n",
      "                                     Valla      Qhira\n",
      "                                     Zul'jin    Rexxar\n",
      "                                                The Butcher\n",
      "                                                The Lost Vikings\n",
      "                                                Thrall\n",
      "                                                Tracer\n",
      "                                                Tyrael\n",
      "                                                Valeera\n",
      "                                                Yrel\n",
      "                                                Zarya\n",
      "                                                Zeratul\n",
      "---------  -----------  -----------  ---------  ----------------\n",
      "---------------  -------  -----  -------  -----  --------  -----  -------  -----  -------  -----\n",
      "Metric - Class#  Avg. 0   CV. 0  Avg. 1   CV. 1  Avg. 2    CV. 2  Avg. 3   CV. 3  Avg. 4   CV. 4\n",
      "Takedowns        12.9     0.07   13.1     0.03   11.6      0.16   12.5     0.08   12.6     0.1\n",
      "Kills            2.6      0.26   1.7      0.32   3.3       0.26   4.4      0.18   3.9      0.32\n",
      "Deaths           3.5      0.13   2.9      0.12   2.9       0.28   3.4      0.11   3.6      0.16\n",
      "Hero Dmg         35633.0  0.16   23687.1  0.22   51931.4   0.18   56967.0  0.09   43695.2  0.15\n",
      "Siege Dmg        50073.7  0.33   26870.6  0.28   107688.7  0.22   84591.3  0.25   68184.4  0.3\n",
      "Healing          686.5    2.12   71434.2  0.13   2793.2    2.46   0.0      0.0    2754.5   1.83\n",
      "Self Heal        25393.3  0.22   2942.6   1.35   6142.8    1.17   6149.6   1.11   21718.6  0.59\n",
      "Dmg Taken        78352.9  0.14   37520.9  0.22   33456.0   0.46   36155.3  0.22   67031.2  0.24\n",
      "XP               9823.1   0.16   7128.4   0.11   14008.7   0.24   12037.2  0.15   12043.0  0.25\n",
      "---------------  -------  -----  -------  -----  --------  -----  -------  -----  -------  -----\n"
     ]
    }
   ],
   "source": [
    "kmeans_classify(X=X,exclusions=exclusions,nclasses=5)\n",
    "#Much better with 5 classes\n",
    "#1: high tanked damage\n",
    "#2: healers\n",
    "#3: high hero and siege damage, low tank\n",
    "#4: similar, but less siege damage and more takedowns; they engage in hero fights\n",
    "#5: Versatile; mid hero damage, good siege damage, good tank"
   ]
  },
  {
   "cell_type": "code",
   "execution_count": 12,
   "id": "9e20acf5-221b-46ff-9fa4-49c15b368675",
   "metadata": {},
   "outputs": [
    {
     "name": "stdout",
     "output_type": "stream",
     "text": [
      "----------  ---------  ---------\n",
      "Games       180456     149662\n",
      "Win %           50         51.1\n",
      "Avg Length      18.98      18.87\n",
      "T/D              3.5        3\n",
      "Takedowns       12.9       10.9\n",
      "Kills            3.5        3.5\n",
      "Deaths           3.6        3.6\n",
      "Hero Dmg     38271      40934\n",
      "Siege Dmg    44672      89210\n",
      "Healing          0          0\n",
      "Self Heal    33339      26521\n",
      "Dmg Taken    81273      67623\n",
      "XP            9777      13696\n",
      "----------  ---------  ---------\n"
     ]
    }
   ],
   "source": [
    "#You'd expect Varian and Sonya to be on a different group\n",
    "#Varian can deal heavy hero damage, but his actual damage is modest\n",
    "#Sonya deals high siege damage, but she did not fit into other classes\n",
    "hero1=stats[np.argwhere(heroes==['Varian'])].flatten()\n",
    "hero2=stats[np.argwhere(heroes==['Sonya'])].flatten()\n",
    "print(tabulate(np.transpose(np.stack((header,hero1,hero2)))))"
   ]
  },
  {
   "cell_type": "code",
   "execution_count": 345,
   "id": "159742c1-19d2-4762-98b7-e9d23227362c",
   "metadata": {},
   "outputs": [
    {
     "name": "stdout",
     "output_type": "stream",
     "text": [
      "-------  ---------  -----------  -----------  ---------  ----------------\n",
      "Alarak   Anub'arak  Alexstrasza  Abathur      Azmodan    Arthas\n",
      "Genji    Artanis    Ana          Chromie      Cassia     Blaze\n",
      "Maiev    Diablo     Anduin       Deathwing    Falstad    Chen\n",
      "Medivh   E.T.C.     Auriel       Fenix        Gazlowe    Cho\n",
      "Nova     Garrosh    Brightwing   Gall         Greymane   D.Va\n",
      "Qhira    Johanna    Deckard      Gul'dan      Hanzo      Dehaka\n",
      "Tracer   Mei        Kharazim     Junkrat      Jaina      Hogger\n",
      "Valeera  Muradin    Li Li        Kel'Thuzad   Kael'thas  Illidan\n",
      "Zeratul  Stitches   Lt. Morales  Mephisto     Li-Ming    Imperius\n",
      "         Varian     Lúcio        Murky        Lunara     Kerrigan\n",
      "                    Malfurion    Probius      Nazeebo    Leoric\n",
      "                    Rehgar       Ragnaros     Orphea     Mal'Ganis\n",
      "                    Stukov       Samuro       Raynor     Malthael\n",
      "                    Tyrande      Sgt. Hammer  Sonya      Rexxar\n",
      "                    Uther        Xul          Sylvanas   The Butcher\n",
      "                    Whitemane    Zagara       Tassadar   The Lost Vikings\n",
      "                                              Tychus     Thrall\n",
      "                                              Valla      Tyrael\n",
      "                                              Zul'jin    Yrel\n",
      "                                                         Zarya\n",
      "-------  ---------  -----------  -----------  ---------  ----------------\n",
      "---------------  -------  -----  -------  -----  -------  -----  --------  -----  -------  -----  -------  -----\n",
      "Metric - Class#  Avg. 0   CV. 0  Avg. 1   CV. 1  Avg. 2   CV. 2  Avg. 3    CV. 3  Avg. 4   CV. 4  Avg. 5   CV. 5\n",
      "Takedowns        13.8     0.05   13.1     0.05   13.1     0.03   11.6      0.16   12.3     0.08   12.1     0.09\n",
      "Kills            5.2      0.18   2.5      0.25   1.7      0.32   3.3       0.26   4.3      0.18   3.4      0.27\n",
      "Deaths           3.5      0.13   3.5      0.13   2.9      0.12   2.9       0.28   3.4      0.11   3.6      0.17\n",
      "Hero Dmg         49498.4  0.09   35102.9  0.16   23687.1  0.22   51931.4   0.18   56361.5  0.11   41520.8  0.14\n",
      "Siege Dmg        51700.6  0.23   46160.1  0.26   26870.6  0.28   107688.7  0.22   87614.5  0.19   73781.3  0.28\n",
      "Healing          3179.9   2.03   755.1    2.0    71434.2  0.13   2793.2    2.46   0.0      0.0    2425.4   1.71\n",
      "Self Heal        6156.9   0.93   25280.5  0.23   2942.6   1.35   6142.8    1.17   7545.4   1.06   27635.4  0.35\n",
      "Dmg Taken        44448.9  0.21   79425.9  0.14   37520.9  0.22   33456.0   0.46   38545.3  0.26   74952.4  0.15\n",
      "XP               10139.6  0.11   9435.8   0.1    7128.4   0.11   14008.7   0.24   12307.1  0.13   12725.7  0.25\n",
      "---------------  -------  -----  -------  -----  -------  -----  --------  -----  -------  -----  -------  -----\n"
     ]
    }
   ],
   "source": [
    "kmeans_classify(X=X,exclusions=exclusions,nclasses=6)\n",
    "#With 6 classes the large class (5 previously) splits into classes 0 and 5\n",
    "#0 has higher hero damage, kills and takedowns (kill assists)\n",
    "#5 is closer to the older class\n",
    "#Sonya has moved to Azmodan's class which makes sense"
   ]
  },
  {
   "cell_type": "code",
   "execution_count": 287,
   "id": "27e79a63-aeb2-4171-a8dc-516487617344",
   "metadata": {},
   "outputs": [
    {
     "name": "stdout",
     "output_type": "stream",
     "text": [
      "----------  --------  --------\n",
      "Games       24043     57214\n",
      "Win %          42.1      53.8\n",
      "Avg Length     19.29     18.87\n",
      "T/D             4.5       4.2\n",
      "Takedowns      12.4      14.1\n",
      "Kills           3         6.1\n",
      "Deaths          2.7       3.4\n",
      "Hero Dmg    46291     52842\n",
      "Siege Dmg   50256     58983\n",
      "Healing     20836      4502\n",
      "Self Heal     598     12708\n",
      "Dmg Taken   38792     44230\n",
      "XP           9215     11141\n",
      "----------  --------  --------\n"
     ]
    }
   ],
   "source": [
    "hero1=stats[np.argwhere(heroes==['Medivh'])].flatten()\n",
    "hero2=stats[np.argwhere(heroes==['Tracer'])].flatten()\n",
    "print(tabulate(np.transpose(np.stack((header,hero1,hero2)))))"
   ]
  },
  {
   "cell_type": "code",
   "execution_count": 13,
   "id": "e0bdf959-2a15-4fc0-835c-5722eb883dfd",
   "metadata": {},
   "outputs": [
    {
     "name": "stdout",
     "output_type": "stream",
     "text": [
      "----------  -----------  ---------  ---------  -----------  ----------------  ---------\n",
      "Anduin      Alexstrasza  Anub'arak  Alarak     Abathur      Arthas            Azmodan\n",
      "Brightwing  Ana          Artanis    Deathwing  Chromie      Blaze             Cassia\n",
      "Li Li       Auriel       Diablo     Genji      Fenix        Chen              Falstad\n",
      "Lúcio       Deckard      E.T.C.     Hogger     Gall         Cho               Gazlowe\n",
      "Malfurion   Kharazim     Garrosh    Maiev      Junkrat      D.Va              Greymane\n",
      "Stukov      Lt. Morales  Johanna    Malthael   Kel'Thuzad   Dehaka            Gul'dan\n",
      "Uther       Rehgar       Mei        Medivh     Murky        Illidan           Hanzo\n",
      "            Tyrande      Muradin    Mephisto   Probius      Imperius          Jaina\n",
      "            Whitemane    Stitches   Nova       Ragnaros     Kerrigan          Kael'thas\n",
      "                         Varian     Qhira      Samuro       Leoric            Li-Ming\n",
      "                                    Tracer     Sgt. Hammer  Mal'Ganis         Lunara\n",
      "                                    Valeera    Xul          Rexxar            Nazeebo\n",
      "                                    Zeratul    Zagara       The Butcher       Orphea\n",
      "                                                            The Lost Vikings  Raynor\n",
      "                                                            Thrall            Sonya\n",
      "                                                            Tyrael            Sylvanas\n",
      "                                                            Yrel              Tassadar\n",
      "                                                            Zarya             Tychus\n",
      "                                                                              Valla\n",
      "                                                                              Zul'jin\n",
      "----------  -----------  ---------  ---------  -----------  ----------------  ---------\n",
      "---------------  -------  -----  -------  -----  -------  -----  -------  -----  --------  -----  -------  -----  -------  -----\n",
      "Metric - Class#  Avg. 0   CV. 0  Avg. 1   CV. 1  Avg. 2   CV. 2  Avg. 3   CV. 3  Avg. 4    CV. 4  Avg. 5   CV. 5  Avg. 6   CV. 6\n",
      "Takedowns        13.3     0.03   13.0     0.03   13.1     0.05   13.3     0.08   11.3      0.17   12.2     0.09   12.3     0.08\n",
      "Kills            1.7      0.16   1.7      0.4    2.5      0.25   4.7      0.24   3.3       0.28   3.3      0.27   4.3      0.18\n",
      "Deaths           2.9      0.14   2.8      0.11   3.5      0.13   3.4      0.19   2.9       0.3    3.5      0.17   3.4      0.11\n",
      "Hero Dmg         23421.3  0.15   23893.9  0.26   35102.9  0.16   51521.2  0.11   49946.1   0.19   40432.3  0.13   56540.9  0.11\n",
      "Siege Dmg        24975.6  0.19   28344.4  0.31   46160.1  0.26   63669.0  0.32   110554.7  0.22   72011.1  0.3    88376.0  0.19\n",
      "Healing          73822.7  0.15   69576.4  0.1    755.1    2.0    2201.5   2.53   3437.8    2.17   2694.9   1.59   0.0      0.0\n",
      "Self Heal        2356.7   1.39   3398.2   1.29   25280.5  0.23   9929.6   0.88   3971.5    1.22   27966.7  0.36   8282.6   1.02\n",
      "Dmg Taken        38963.1  0.15   36399.2  0.25   79425.9  0.14   47564.4  0.21   31094.2   0.51   76386.5  0.15   38461.2  0.25\n",
      "XP               7117.3   0.07   7137.1   0.13   9435.8   0.1    11085.8  0.16   14409.2   0.25   12563.2  0.27   12308.6  0.13\n",
      "---------------  -------  -----  -------  -----  -------  -----  -------  -----  --------  -----  -------  -----  -------  -----\n"
     ]
    }
   ],
   "source": [
    "kmeans_classify(X=X,exclusions=exclusions,nclasses=7)\n"
   ]
  },
  {
   "cell_type": "markdown",
   "id": "d344f520-acb4-4ff9-83e8-ca4d4894a0f4",
   "metadata": {},
   "source": [
    "The results are already looking fairly good. But let us see how dim-red (dimensionality reduction) can alter the classes. We'll focus on 5 and 6 classes from now on."
   ]
  },
  {
   "cell_type": "code",
   "execution_count": null,
   "id": "6a1ccf84-0569-498f-83ae-d03a921d940d",
   "metadata": {},
   "outputs": [],
   "source": []
  }
 ],
 "metadata": {
  "kernelspec": {
   "display_name": "Python 3 (ipykernel)",
   "language": "python",
   "name": "python3"
  },
  "language_info": {
   "codemirror_mode": {
    "name": "ipython",
    "version": 3
   },
   "file_extension": ".py",
   "mimetype": "text/x-python",
   "name": "python",
   "nbconvert_exporter": "python",
   "pygments_lexer": "ipython3",
   "version": "3.9.12"
  }
 },
 "nbformat": 4,
 "nbformat_minor": 5
}
